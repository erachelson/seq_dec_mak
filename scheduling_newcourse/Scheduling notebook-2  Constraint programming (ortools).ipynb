{
 "cells": [
  {
   "cell_type": "markdown",
   "id": "c7cf2032",
   "metadata": {},
   "source": [
    "# Modelling scheduling problem as constraint programming "
   ]
  },
  {
   "cell_type": "markdown",
   "id": "3d267234",
   "metadata": {},
   "source": [
    "In this AIBT you learnt how to model a combinatorial optimisation problem using either Constraint Programming or Mixed Integer Linear programming paradigm. https://www.xoolive.org/optim4ai/\n",
    "\n",
    "In this notebook you will be able to apply your modelling abilities to model RCPSP problem.\n",
    "Contrary to your first course, a more scheduling oriented CP solver will be used. It is the [Ortools CPSAT solver](https://developers.google.com/optimization/cp/cp_solver)"
   ]
  },
  {
   "cell_type": "markdown",
   "id": "150f2748",
   "metadata": {},
   "source": [
    "<div class=\"alert alert-warning\">\n",
    "    <b>Questions</b> appear in yellow.\n",
    "</div>"
   ]
  },
  {
   "cell_type": "markdown",
   "id": "d98ba46e",
   "metadata": {},
   "source": [
    "## Ortools basics"
   ]
  },
  {
   "cell_type": "code",
   "execution_count": null,
   "id": "768fe01c",
   "metadata": {},
   "outputs": [],
   "source": [
    "from ortools.sat.python import cp_model"
   ]
  },
  {
   "cell_type": "markdown",
   "id": "6c10f1cc",
   "metadata": {},
   "source": [
    "### Creating a CP Model : "
   ]
  },
  {
   "cell_type": "code",
   "execution_count": null,
   "id": "896f9379",
   "metadata": {},
   "outputs": [],
   "source": [
    "model = cp_model.CpModel()"
   ]
  },
  {
   "cell_type": "markdown",
   "id": "38774114",
   "metadata": {},
   "source": [
    "### Creating your first integer variables"
   ]
  },
  {
   "cell_type": "code",
   "execution_count": null,
   "id": "675fe76d",
   "metadata": {},
   "outputs": [],
   "source": [
    "# Doc : \n",
    "model.NewIntVar??"
   ]
  },
  {
   "cell_type": "code",
   "execution_count": null,
   "id": "875fea0b",
   "metadata": {},
   "outputs": [],
   "source": [
    "x = model.NewIntVar(0, 10, \"x\")\n",
    "y = model.NewIntVar(0, 20, \"y\")"
   ]
  },
  {
   "cell_type": "markdown",
   "id": "ea030537",
   "metadata": {},
   "source": [
    "### Creating your first constraint"
   ]
  },
  {
   "cell_type": "code",
   "execution_count": null,
   "id": "2e36267a",
   "metadata": {},
   "outputs": [],
   "source": [
    "model.Add(x+y<=10)"
   ]
  },
  {
   "cell_type": "markdown",
   "id": "58b4d186",
   "metadata": {},
   "source": [
    "### Setting objective function"
   ]
  },
  {
   "cell_type": "code",
   "execution_count": null,
   "id": "63d38316",
   "metadata": {},
   "outputs": [],
   "source": [
    "model.Maximize(x+y)"
   ]
  },
  {
   "cell_type": "markdown",
   "id": "9dd68e34",
   "metadata": {},
   "source": [
    "### Solving"
   ]
  },
  {
   "cell_type": "code",
   "execution_count": null,
   "id": "7144fb3c",
   "metadata": {},
   "outputs": [],
   "source": [
    "def solve(model, enumerate_all: bool=False):\n",
    "    solver = cp_model.CpSolver()\n",
    "    solver.parameters.enumerate_all_solutions = enumerate_all\n",
    "    solver.parameters.max_time_in_seconds = 10\n",
    "    \n",
    "    status = solver.Solve(model)\n",
    "    status_human = solver.StatusName(status)\n",
    "    print(status_human)\n",
    "    return solver"
   ]
  },
  {
   "cell_type": "code",
   "execution_count": null,
   "id": "09f8dd90",
   "metadata": {},
   "outputs": [],
   "source": [
    "solver = solve(model)\n",
    "value_x = solver.Value(x)\n",
    "value_y = solver.Value(y)\n",
    "print(\"Value x:\", value_x, \"\\nValue y:\", value_y)"
   ]
  },
  {
   "cell_type": "markdown",
   "id": "f98a47f7-c432-4d68-a634-3f5cd337358c",
   "metadata": {},
   "source": [
    "### Boolean variables\n",
    "One specific integer variable is the boolean ones {0, 1}, for which the CP<b>SAT</b> solver is very efficient (SAT denomination is generally for boolean problems."
   ]
  },
  {
   "cell_type": "code",
   "execution_count": null,
   "id": "a1756544-4c99-4a72-af12-d6b74f0d4358",
   "metadata": {},
   "outputs": [],
   "source": [
    "def testing_model():\n",
    "    model = cp_model.CpModel()\n",
    "    x = model.NewBoolVar(\"x\")\n",
    "    y = model.NewBoolVar(\"y\")\n",
    "    return model, x, y"
   ]
  },
  {
   "cell_type": "markdown",
   "id": "ebb14c43-888a-4c77-ba8d-c7b500d2d358",
   "metadata": {},
   "source": [
    "### Boolean constraints"
   ]
  },
  {
   "cell_type": "markdown",
   "id": "6ab649a7-222c-4cf6-bc4c-1307b2e823b7",
   "metadata": {},
   "source": [
    "#### Implications\n",
    "Constraint $x\\rightarrow y$, or in english y is 1 if x is 1."
   ]
  },
  {
   "cell_type": "code",
   "execution_count": null,
   "id": "6d8f7c72-c947-4052-bc8c-d0db3dd5c336",
   "metadata": {},
   "outputs": [],
   "source": [
    "model, x, y = testing_model()\n",
    "model.AddImplication(x, y)"
   ]
  },
  {
   "cell_type": "markdown",
   "id": "d1c25fdb-9dc7-4e3c-9499-5f7b9fe3bab1",
   "metadata": {},
   "source": [
    "### And, Or, Xor"
   ]
  },
  {
   "cell_type": "code",
   "execution_count": null,
   "id": "4a9b7a97-c95f-4626-8b81-52767dbfc1fe",
   "metadata": {},
   "outputs": [],
   "source": [
    "model,x,y = testing_model()\n",
    "model.AddBoolAnd(x, y)\n",
    "solver = solve(model)\n",
    "value_x = solver.Value(x)\n",
    "value_y = solver.Value(y)\n",
    "print(\"Value x:\", value_x, \"\\nValue y:\", value_y)"
   ]
  },
  {
   "cell_type": "code",
   "execution_count": null,
   "id": "107817e4-0e5d-4ff7-8575-f30dc095be84",
   "metadata": {},
   "outputs": [],
   "source": [
    "model,x,y = testing_model()\n",
    "model.AddBoolOr(x, y)\n",
    "model.Maximize(x+y)\n",
    "solver = solve(model)\n",
    "value_x = solver.Value(x)\n",
    "value_y = solver.Value(y)\n",
    "print(\"Value x:\", value_x, \"\\nValue y:\", value_y)"
   ]
  },
  {
   "cell_type": "code",
   "execution_count": null,
   "id": "d49e6245-b72b-4c1f-82bf-54ede5d8d141",
   "metadata": {},
   "outputs": [],
   "source": [
    "model,x,y = testing_model()\n",
    "model.AddBoolXOr(x, y)\n",
    "model.Maximize(x+y)\n",
    "solver = solve(model)\n",
    "value_x = solver.Value(x)\n",
    "value_y = solver.Value(y)\n",
    "print(\"Value x:\", value_x, \"\\nValue y:\", value_y)"
   ]
  },
  {
   "cell_type": "markdown",
   "id": "6b96b210-1cec-4d96-9e80-f04164b8e265",
   "metadata": {},
   "source": [
    "### Advanced constraint"
   ]
  },
  {
   "cell_type": "markdown",
   "id": "67ce9031-54dd-4130-b62f-284b9099a6f2",
   "metadata": {},
   "source": [
    "CPSAT also proposes more advanced sugar syntax for other boolean constraint. Look to the following constraint documentation, which are self-explanatory."
   ]
  },
  {
   "cell_type": "code",
   "execution_count": null,
   "id": "65f0aca2-497d-4388-9d2e-5aff00fdaeb0",
   "metadata": {},
   "outputs": [],
   "source": [
    "#model.AddAtLeastOne?\n",
    "#model.AddAtMostOne?\n",
    "model.AddExactlyOne?"
   ]
  },
  {
   "cell_type": "code",
   "execution_count": null,
   "id": "c5e20b47-a049-4c33-b3cc-9a0241db6835",
   "metadata": {},
   "outputs": [],
   "source": [
    "import pandas as pd\n",
    "def model_many_variable():\n",
    "    model = cp_model.CpModel()\n",
    "    df = pd.Series(range(10))\n",
    "    x = model.NewBoolVarSeries(\"x\", df.index)\n",
    "    return model, x"
   ]
  },
  {
   "cell_type": "code",
   "execution_count": null,
   "id": "041ebd3c-4b42-4528-82d8-fd159802d310",
   "metadata": {},
   "outputs": [],
   "source": [
    "model, x = model_many_variable()\n",
    "#model.AddAtLeastOne(x)\n",
    "#model.AddAtMostOne(x)\n",
    "model.AddExactlyOne(x)\n",
    "solver = solve(model)\n",
    "model.Maximize(sum(x))\n",
    "solver = solve(model)\n",
    "print(solver.BooleanValues(x))"
   ]
  },
  {
   "cell_type": "markdown",
   "id": "f5727cac-7b26-4d01-afec-d6e2ec3fd0a7",
   "metadata": {},
   "source": [
    "### Enforcement constraint\n",
    "In complex modeling problems, we might need conditional constraint, i.e constraint that are activated (true), when a given condition is satisfied. if Y is a boolean variable : \n",
    "\n",
    "Y$\\rightarrow$ ConstraintVerified\n",
    "is expressed as ```model.Add(Constraint).OnlyEnforceIf(Y)``` using CPSat.\n",
    "\n"
   ]
  },
  {
   "cell_type": "markdown",
   "id": "6bfc440d-03b1-49ee-8aae-274454190e6a",
   "metadata": {},
   "source": [
    "From [the official guide](https://developers.google.com/optimization/cp/channeling#if-then-else_expressions):\n",
    "\n",
    "Let's say you want to implement the following: \"If x is less than 5, set y to 0. Otherwise, set y to 10-x\". You can do this creating an intermediate boolean variable b that is true if x is greater than or equal to 5, and false otherwise:\n",
    "\n",
    "- b implies y == 10 - x\n",
    "- not(b) implies y == 0"
   ]
  },
  {
   "cell_type": "code",
   "execution_count": null,
   "id": "2120efa3-e515-472e-98d2-237ba54e52e9",
   "metadata": {},
   "outputs": [],
   "source": [
    "model = cp_model.CpModel()\n",
    "x = model.NewIntVar(0, 10, \"x\")\n",
    "y = model.NewIntVar(0, 10, \"y\")\n",
    "b = model.NewBoolVar(\"b\")\n",
    "model.Add(x<=5).OnlyEnforceIf(b.Not())\n",
    "model.Add(x>5).OnlyEnforceIf(b)\n",
    "model.Add(y==10-x).OnlyEnforceIf(b)\n",
    "model.Add(y==0).OnlyEnforceIf(b.Not())\n",
    "class VarArraySolutionPrinter(cp_model.CpSolverSolutionCallback):\n",
    "    \"\"\"Print intermediate solutions.\"\"\"\n",
    "\n",
    "    def __init__(self, variables: list[cp_model.IntVar]):\n",
    "        cp_model.CpSolverSolutionCallback.__init__(self)\n",
    "        self.__variables = variables\n",
    "\n",
    "    def on_solution_callback(self) -> None:\n",
    "        for v in self.__variables:\n",
    "            print(f\"{v}={self.Value(v)}\", end=\" \")\n",
    "        print()\n",
    "solver = cp_model.CpSolver()\n",
    "solver.parameters.enumerate_all_solutions = True\n",
    "status = solver.Solve(model, VarArraySolutionPrinter([x,y,b]))"
   ]
  },
  {
   "cell_type": "markdown",
   "id": "b0952ea5-d4db-494b-834a-c066778765c4",
   "metadata": {},
   "source": [
    "### Small exercise : \n",
    "\n",
    "<div class=\"alert alert-warning\">\n",
    "<b>Exercice #1: (medium)</b><br />\n",
    "Encode the following problem : \n",
    "    \n",
    "- X is an array of boolean variable of size 20\n",
    "- Y is an array of boolean variable of size 19\n",
    "- Z is an integer variable\n",
    "With the following constraint : \n",
    "- for i $\\in [0, 18]$ , $Y[i]$ is 1 when $X[i]==X[i+1]$\n",
    "- for i $\\in [0, 16]$, $Y[i]!=Y[i+2]$\n",
    "- Z = sum(X[::3])+sum(Y)\n",
    "Goal is to maximize Z\n",
    "</div>"
   ]
  },
  {
   "cell_type": "code",
   "execution_count": null,
   "id": "f43e545b-fe3b-4d61-b855-9c640c16e26a",
   "metadata": {},
   "outputs": [],
   "source": [
    "model.AddBoolAnd??"
   ]
  },
  {
   "cell_type": "code",
   "execution_count": null,
   "id": "ade4520e-527d-4ac6-b4be-70fa079517e3",
   "metadata": {},
   "outputs": [],
   "source": [
    "def exercise_model(N=20):\n",
    "    model = cp_model.CpModel()\n",
    "    df = pd.Series(range(N))\n",
    "    X = ??\n",
    "    Y = ??\n",
    "    Z = ??\n",
    "    return model, X, Y, Z"
   ]
  },
  {
   "cell_type": "code",
   "execution_count": null,
   "id": "e5597f2a-b069-4633-936a-7138d63a9aea",
   "metadata": {},
   "outputs": [],
   "source": [
    "# %load correction/nb2_small_cpexercise.py"
   ]
  },
  {
   "cell_type": "code",
   "execution_count": null,
   "id": "76aa4eeb-07c5-4c00-b181-f02bacb80061",
   "metadata": {},
   "outputs": [],
   "source": [
    "def solution_checker(X, Y, Z):\n",
    "    N = len(X)\n",
    "    for i in range(N-1):\n",
    "        if Y[i]:\n",
    "            assert(X[i]==X[i+1])\n",
    "        if i < N-3:\n",
    "            assert(Y[i]!=Y[i+2])\n",
    "    assert Z == sum(X[::3])+sum(Y)\n",
    "    \n",
    "model, X, Y, Z = exercise_model(N=20)\n",
    "solver = solve(model)\n",
    "X_v, Y_v, Z_v = (solver.Values(X), solver.Values(Y), solver.Value(Z))\n",
    "print(X_v, Y_v)\n",
    "solution_checker(X_v, Y_v, Z_v)"
   ]
  },
  {
   "attachments": {},
   "cell_type": "markdown",
   "id": "f8e076cc-f4b1-47e9-ba2a-3aa68d383422",
   "metadata": {},
   "source": [
    "### Interval variables for scheduling\n",
    "\n",
    "CP-SAT solver from Ortools has a big focus on scheduling problems and it uses the concept of interval variables to efficiently model them."
   ]
  },
  {
   "cell_type": "code",
   "execution_count": null,
   "id": "4d0c6b90",
   "metadata": {},
   "outputs": [],
   "source": [
    "model.NewIntervalVar??"
   ]
  },
  {
   "cell_type": "markdown",
   "id": "2534f42c",
   "metadata": {},
   "source": [
    "Here's a simple example where we have 1 task to schedule with a duration of 10 and we want to schedule it as late as possible considering the allowed range $[0, 20]$"
   ]
  },
  {
   "cell_type": "code",
   "execution_count": null,
   "id": "6f5efeed",
   "metadata": {},
   "outputs": [],
   "source": [
    "model = cp_model.CpModel()\n",
    "start = model.NewIntVar(0, 20, \"start\")\n",
    "end = model.NewIntVar(0, 20, \"end\")\n",
    "duration = 10\n",
    "task_var = model.NewIntervalVar(start, duration, end, name=\"task\")\n",
    "model.Maximize(start)\n",
    "\n",
    "solver = cp_model.CpSolver()\n",
    "solver.parameters.enumerate_all_solutions = True\n",
    "status = solver.Solve(model)\n",
    "status_human = solver.StatusName(status)\n",
    "print(status_human)\n",
    "print(\"Task scheduled between time : \", solver.Value(start), solver.Value(end))"
   ]
  },
  {
   "cell_type": "markdown",
   "id": "7ee08b79",
   "metadata": {},
   "source": [
    "### Global constraints on interval"
   ]
  },
  {
   "cell_type": "markdown",
   "id": "bb25bda9",
   "metadata": {},
   "source": [
    "#### No overlap constraint\n",
    "The <b>NoOverlap</b> constraint takes as input a list of interval variables, and forbid any overlap between the intervals. It can be usefull for problem where a given list of task have to be done by the same machine or worker."
   ]
  },
  {
   "cell_type": "code",
   "execution_count": null,
   "id": "4e7e6989",
   "metadata": {},
   "outputs": [],
   "source": [
    "# Look at the documentation in ortools library\n",
    "model.AddNoOverlap?"
   ]
  },
  {
   "cell_type": "markdown",
   "id": "f4975be7",
   "metadata": {},
   "source": [
    "#### Cumulative resource constraint\n",
    "The <b>Cumulative</b> constraint insures that at any time, a set of interval consuming a given quantity of resource don't overconsume a given capacity."
   ]
  },
  {
   "cell_type": "code",
   "execution_count": null,
   "id": "e3d672dc",
   "metadata": {},
   "outputs": [],
   "source": [
    "model.AddCumulative?"
   ]
  },
  {
   "cell_type": "markdown",
   "id": "1bc25ebd-ad1c-4acb-be4a-8868d981ada0",
   "metadata": {},
   "source": [
    "#### Optional interval variables\n",
    "Interval variable can be set \"optional\" using a boolean flag variable. If an interval is <b>not</b> activated (flag=False), then the considered interval is ignored in the global constraint they are involved in, and also the implicit constraint (end=start+size) are not enforced. -> Behind the scene, the flag binary variable is introduced in some ```OnlyEnforceIf``` constraints."
   ]
  },
  {
   "cell_type": "markdown",
   "id": "17100b05-2cdb-40f7-aebe-c9c55b3e4348",
   "metadata": {},
   "source": [
    "Let's create a small problem with 2 task, one which should start between [0, 20] and finish [0, 20] having a duration of 10,\n",
    "and the other one starting between [0, 10], finishing [0, 20] having a duration of 12. We want to schedule them without overlapping."
   ]
  },
  {
   "cell_type": "code",
   "execution_count": null,
   "id": "7797c734-567c-49cc-8152-d22846495a36",
   "metadata": {},
   "outputs": [],
   "source": [
    "def small_model_scheduling():\n",
    "    model = cp_model.CpModel()\n",
    "    start_1 = model.NewIntVar(0, 20, \"start_1\")\n",
    "    end_1 = model.NewIntVar(0, 20, \"end_1\")\n",
    "    is_present_1 = model.NewBoolVar(\"is_present_1\")\n",
    "    duration_1 = 10\n",
    "    task_var_1 = model.NewOptionalIntervalVar(start=start_1,\n",
    "                                              size=duration_1, \n",
    "                                              end=end_1, \n",
    "                                              is_present=is_present_1,\n",
    "                                              name=\"task\")\n",
    "    start_2 = model.NewIntVar(0, 10, \"start_2\")\n",
    "    end_2 = model.NewIntVar(0, 20, \"end_2\")\n",
    "    is_present_2 = model.NewBoolVar(\"is_present_2\")\n",
    "    duration_2 = 12\n",
    "    task_var_2 = model.NewOptionalIntervalVar(start=start_2,\n",
    "                                              size=duration_2, \n",
    "                                              end=end_2, \n",
    "                                              is_present=is_present_2,\n",
    "                                              name=\"task\")\n",
    "    \n",
    "    model.AddNoOverlap([task_var_1, task_var_2])\n",
    "    return model, start_1, end_1, is_present_1, start_2, end_2, is_present_2"
   ]
  },
  {
   "cell_type": "code",
   "execution_count": null,
   "id": "380752e5-67ee-4e45-b739-25c6d51e8df0",
   "metadata": {},
   "outputs": [],
   "source": [
    "model, start_1, end_1, is_present_1, start_2, end_2, is_present_2 = small_model_scheduling()\n",
    "solver = solve(model)\n",
    "print(solver.Values([start_1, end_1, is_present_1]),\n",
    "      solver.Values([start_2, end_2, is_present_2]))"
   ]
  },
  {
   "cell_type": "markdown",
   "id": "5231ee0b-03dd-4ccf-9d85-a7b8e2ee3417",
   "metadata": {},
   "source": [
    "Strange isn't it, none of the activities are scheduled !! it's because they are optional.\n",
    "Let's try to force their presence : "
   ]
  },
  {
   "cell_type": "code",
   "execution_count": null,
   "id": "6ece02c2-7bdc-450e-9caf-e4ebf0caf608",
   "metadata": {},
   "outputs": [],
   "source": [
    "# Exercise : \n",
    "## Force the presence of task 1 and 2, what do you observe ?? "
   ]
  },
  {
   "cell_type": "code",
   "execution_count": null,
   "id": "f49ec752-659a-4e3b-af47-f9c227520d28",
   "metadata": {},
   "outputs": [],
   "source": [
    "model.AddBoolAnd([is_present_1, is_present_2])\n",
    "solver = solve(model)\n",
    "print(solver.Values([start_1, end_1, is_present_1]),\n",
    "      solver.Values([start_2, end_2, is_present_2]))"
   ]
  },
  {
   "cell_type": "markdown",
   "id": "13c42180-85d0-4065-a9a6-67bf82fd47c7",
   "metadata": {},
   "source": [
    "Instead of forcing the presence, we can add an objective on the number of interval activated ?!!"
   ]
  },
  {
   "cell_type": "code",
   "execution_count": null,
   "id": "998acab5-5f8d-4f73-a2e2-ad11610bbdcd",
   "metadata": {},
   "outputs": [],
   "source": [
    "model, start_1, end_1, is_present_1, start_2, end_2, is_present_2 = small_model_scheduling()\n",
    "model.Maximize(sum([is_present_1, is_present_2]))\n",
    "solver = solve(model)\n",
    "print(solver.Values([start_1, end_1, is_present_1]),\n",
    "      solver.Values([start_2, end_2, is_present_2]))"
   ]
  },
  {
   "cell_type": "markdown",
   "id": "d12ead89-b806-448b-a73d-794f9fd71beb",
   "metadata": {},
   "source": [
    "Better isn't it ??"
   ]
  },
  {
   "cell_type": "markdown",
   "id": "bb23a477-08a0-4d05-b5cf-d9cf4a71c198",
   "metadata": {},
   "source": [
    "### You can play with this concept a bit more if needed :"
   ]
  },
  {
   "cell_type": "code",
   "execution_count": null,
   "id": "3565fc7a-4db5-4804-a373-c23569323eb3",
   "metadata": {},
   "outputs": [],
   "source": [
    "model, start_1, end_1, is_present_1, start_2, end_2, is_present_2 = small_model_scheduling()\n",
    "model.AddAtLeastOne(is_present_1, is_present_2)\n",
    "makespan = model.NewIntVar(0, 20, name=\"makespan\")\n",
    "model.Add(makespan>end_1).OnlyEnforceIf(is_present_1)\n",
    "model.Add(makespan>end_2).OnlyEnforceIf(is_present_2)\n",
    "model.Minimize(makespan+is_present_1+20*is_present_2)\n",
    "solver = solve(model)\n",
    "print(solver.Values([start_1, end_1, is_present_1]),\n",
    "      solver.Values([start_2, end_2, is_present_2]))"
   ]
  },
  {
   "cell_type": "markdown",
   "id": "bf109a75",
   "metadata": {},
   "source": [
    "## Job shop problem"
   ]
  },
  {
   "cell_type": "markdown",
   "id": "2479e67d",
   "metadata": {},
   "source": [
    "<div class=\"alert alert-warning\">\n",
    "<b>Problem #1: (medium)</b><br />\n",
    "\n",
    "Simple job shop problem\n",
    "</div>\n",
    "\n",
    "<div class=\"alert alert-info\">\n",
    "The original problem is stated as follows:\n",
    "<blockquote>\n",
    "Each job consists of a sequence of tasks, which must be performed in a given order, and each task must be processed on a specific machine. For example, the job could be the manufacture of a single consumer item, such as an automobile. The problem is to schedule the tasks on the machines so as to minimize the length of the schedule—the time it takes for all the jobs to be completed.\n",
    "There are several constraints for the job shop problem:\n",
    "No task for a job can be started until the previous task for that job is completed.\n",
    "A machine can only work on one task at a time.\n",
    "A task, once started, must run to completion.\n",
    "<br/><br/>\n",
    "</blockquote>\n",
    "\n",
    "</div>"
   ]
  },
  {
   "cell_type": "markdown",
   "id": "f7500dac",
   "metadata": {},
   "source": [
    "## Object oriented placeholder\n",
    "Let's define some structure to store the input data of a job shop problem.\n",
    "A jobshop problem is defined by a number of machines, a list of jobs themselves composed of several Subjob to execute in order. "
   ]
  },
  {
   "cell_type": "code",
   "execution_count": null,
   "id": "7741cea7",
   "metadata": {},
   "outputs": [],
   "source": [
    "from typing import List\n",
    "class Subjob:\n",
    "    machine_id: int\n",
    "    processing_time: int\n",
    "    def __init__(self, machine_id, processing_time):\n",
    "        self.machine_id = machine_id\n",
    "        self.processing_time = processing_time\n",
    "    def __str__(self):\n",
    "        return f\"machine and duration : {self.machine_id, self.processing_time}\"\n",
    "        \n",
    "class JobShopProblem:\n",
    "    n_jobs: int\n",
    "    n_machines: int\n",
    "    list_jobs: List[List[Subjob]]\n",
    "    def __init__(self, list_jobs: List[List[Subjob]], n_jobs: int=None, n_machines: int=None):\n",
    "        self.n_jobs = n_jobs\n",
    "        self.n_machines = n_machines\n",
    "        self.list_jobs = list_jobs\n",
    "        if self.n_jobs is None:\n",
    "            self.n_jobs = len(list_jobs)\n",
    "        if self.n_machines is None:\n",
    "            self.n_machines = len(set([y.machine_id for x in self.list_jobs\n",
    "                                       for y in x]))\n",
    "        # Store for each machine the list of subjob given as (index_job, index_subjob)\n",
    "        self.job_per_machines = {i: [] for i in range(self.n_machines)}\n",
    "        for k in range(self.n_jobs):\n",
    "            for sub_k in range(len(list_jobs[k])):\n",
    "                self.job_per_machines[list_jobs[k][sub_k].machine_id] += [(k, sub_k)]"
   ]
  },
  {
   "cell_type": "markdown",
   "id": "f5376f4c",
   "metadata": {},
   "source": [
    "### Example : "
   ]
  },
  {
   "cell_type": "code",
   "execution_count": null,
   "id": "d206b11c",
   "metadata": {},
   "outputs": [],
   "source": [
    "job_0 = [Subjob(machine_id=0, processing_time=3), Subjob(1, 2), Subjob(2, 2)]\n",
    "job_1 = [Subjob(0, 2), Subjob(2, 1), Subjob(1, 4)]\n",
    "job_2 = [Subjob(1, 4), Subjob(2, 3)]\n",
    "example_jobshop = JobShopProblem(list_jobs=[job_0, job_1, job_2])\n",
    "print(example_jobshop.job_per_machines)"
   ]
  },
  {
   "cell_type": "markdown",
   "id": "7185c48b",
   "metadata": {},
   "source": [
    "### Solution encoding : \n",
    "we will choose how to encode a schedule solution in a specific object too."
   ]
  },
  {
   "cell_type": "code",
   "execution_count": null,
   "id": "07eb60df",
   "metadata": {},
   "outputs": [],
   "source": [
    "from typing import Tuple\n",
    "class SolutionJobshop:\n",
    "    def __init__(self, schedule: List[List[Tuple[int, int]]]):\n",
    "        # For each job and subjob, start and end time given as tuple of int.\n",
    "        self.schedule = schedule"
   ]
  },
  {
   "cell_type": "markdown",
   "id": "b468f53d",
   "metadata": {},
   "source": [
    "### Checking of a solution\n",
    "We can code a python function verifying if a solution is valid. That could help you debug your CP model afterwards."
   ]
  },
  {
   "cell_type": "code",
   "execution_count": null,
   "id": "7990d9a3",
   "metadata": {},
   "outputs": [],
   "source": [
    "def check_solution(solution: SolutionJobshop, problem: JobShopProblem):\n",
    "    if len(solution.schedule)!=problem.n_jobs:\n",
    "        print(\"solution schedule should be same size as the problem\")\n",
    "        return False\n",
    "    for k in range(problem.n_jobs):\n",
    "        if len(solution.schedule[k])!=len(problem.list_jobs[k]):\n",
    "            print(f\"solution schedule for task n°{k} should be coherent with problem\")\n",
    "            return False\n",
    "        for sub_k in range(len(solution.schedule[k])):\n",
    "            if solution.schedule[k][sub_k][1]-solution.schedule[k][sub_k][0]!=problem.list_jobs[k][sub_k].processing_time:\n",
    "                print(f\"Duration of task should be coherent with problem\")\n",
    "                return False\n",
    "            if sub_k>=1:\n",
    "                if not (solution.schedule[k][sub_k][0]>=solution.schedule[k][sub_k-1][1]):\n",
    "                    print(f\"Precedence constraint between consecutive subtask not respected\")\n",
    "                    return False\n",
    "    for machine in problem.job_per_machines:\n",
    "        sorted_job = sorted([solution.schedule[x[0]][x[1]]\n",
    "                             for x in problem.job_per_machines[machine]])\n",
    "        for l in range(1, len(sorted_job)):\n",
    "            if not (sorted_job[l][0]>=sorted_job[l-1][1]):\n",
    "                print(\"Some task are overlaping in one machine\")\n",
    "                return False\n",
    "    print(\"Constraint satisfied\")\n",
    "    return True"
   ]
  },
  {
   "cell_type": "markdown",
   "id": "bcc1acd7",
   "metadata": {},
   "source": [
    "### Plotting of a solution"
   ]
  },
  {
   "cell_type": "code",
   "execution_count": null,
   "id": "21173399",
   "metadata": {},
   "outputs": [],
   "source": [
    "import matplotlib.pyplot as plt\n",
    "import matplotlib\n",
    "from matplotlib.collections import PatchCollection\n",
    "from matplotlib.patches import Polygon as pp\n",
    "from shapely.geometry import Polygon\n",
    "from matplotlib.font_manager import FontProperties\n",
    "def plot_solution(solution: SolutionJobshop, problem: JobShopProblem):\n",
    "    fig, ax = plt.subplots(1)\n",
    "    patches = []\n",
    "    for machine in problem.job_per_machines:\n",
    "        for task in problem.job_per_machines[machine]:\n",
    "            time_start, time_end = solution.schedule[task[0]][task[1]]\n",
    "            polygon = Polygon(\n",
    "                        [\n",
    "                            (time_start, machine-0.2),\n",
    "                            (time_end, machine-0.2),\n",
    "                            (time_end, machine+0.2),\n",
    "                            (time_start, machine+0.2),\n",
    "                            (time_start, machine-0.2),\n",
    "                        ]\n",
    "                    )\n",
    "            ax.annotate(str(task),\n",
    "                xy=((3*time_start+time_end)/4, machine),\n",
    "                font_properties=FontProperties(size=7, weight=\"bold\"),\n",
    "                verticalalignment=\"center\",\n",
    "                horizontalalignment=\"left\",\n",
    "                color=\"k\",\n",
    "                clip_on=True,\n",
    "            )\n",
    "            x, y = polygon.exterior.xy\n",
    "            ax.plot(x, y, zorder=-1, color=\"b\")\n",
    "            patches.append(pp(xy=polygon.exterior.coords))\n",
    "    p = PatchCollection(patches, cmap=matplotlib.colormaps.get_cmap(\"Blues\"), alpha=0.4)\n",
    "    ax.add_collection(p)\n",
    "    ax.set_yticks(range(problem.n_machines))\n",
    "    ax.set_yticklabels(\n",
    "        tuple([f\"machine {j}\" for j in range(problem.n_machines)]), fontdict={\"size\": 5}\n",
    "    )\n",
    "    return fig, ax"
   ]
  },
  {
   "cell_type": "markdown",
   "id": "fb2ea939",
   "metadata": {},
   "source": [
    "### Manual solution computation\n",
    "<div class=\"alert alert-warning\">\n",
    "<b>Manual solution</b><br />\n",
    "\n",
    "Here you are asked to build yourself a solution, that pass the check solution and that you can plot.\n",
    "</div>"
   ]
  },
  {
   "cell_type": "code",
   "execution_count": null,
   "id": "73501727",
   "metadata": {},
   "outputs": [],
   "source": [
    "handcrafted_solution = SolutionJobshop([[[?, ?], [?, ?], [?, ?]], \n",
    "                                        [[?, ?], [?, ?], [?, ?]], \n",
    "                                        [[?, ?], [?, ?]]])\n",
    "check = check_solution(solution=handcrafted_solution, problem=example_jobshop)\n",
    "plot_solution(handcrafted_solution, example_jobshop)\n",
    "print(\"Solution respect the jobshop constraints : \", check)"
   ]
  },
  {
   "cell_type": "code",
   "execution_count": null,
   "id": "56d01065",
   "metadata": {},
   "outputs": [],
   "source": [
    "#%load correction/nb2_jobshophandcrafted.py"
   ]
  },
  {
   "cell_type": "markdown",
   "id": "82221f1d",
   "metadata": {},
   "source": [
    "### CP Modelling\n",
    "Constraint programming powerness can help our scheduling tasks by providing good quality schedules fastly. In this section you will code the CP model of jobshop problem"
   ]
  },
  {
   "cell_type": "markdown",
   "id": "7bfb0ace",
   "metadata": {},
   "source": [
    "<div class=\"alert alert-warning\">\n",
    "<b>CP solver implementation</b><br />\n",
    "\n",
    "Job shop problem\n",
    "</div>"
   ]
  },
  {
   "cell_type": "code",
   "execution_count": null,
   "id": "62e5ad51",
   "metadata": {},
   "outputs": [],
   "source": [
    "class SolverJobShop:\n",
    "    def __init__(self, jobshop_problem: JobShopProblem):\n",
    "        self.jobshop_problem = jobshop_problem\n",
    "        self.model = cp_model.CpModel()\n",
    "        self.variables = {}\n",
    "    \n",
    "    def init_model(max_time: int):\n",
    "        # Write variables, constraints\n",
    "        pass\n",
    "        \n",
    "    def solve() -> SolutionJobshop:\n",
    "        self.init_model()\n",
    "        solver = cp_model.CpSolver()\n",
    "        solver.parameters.max_time_in_seconds = 10\n",
    "        status = solver.Solve(self.model)\n",
    "        status_human = solver.StatusName(status)\n",
    "        print(status_human)\n",
    "        # Code the reconstruction of the\n",
    "        return\n",
    "        "
   ]
  },
  {
   "cell_type": "code",
   "execution_count": null,
   "id": "4173cf71",
   "metadata": {},
   "outputs": [],
   "source": [
    "# %load correction/nb2_cpmodel_cell.py"
   ]
  },
  {
   "cell_type": "markdown",
   "id": "b0fbb97a",
   "metadata": {},
   "source": [
    "### Test the solver on benchmark\n"
   ]
  },
  {
   "cell_type": "code",
   "execution_count": null,
   "id": "5826046b",
   "metadata": {},
   "outputs": [],
   "source": [
    "from jsplib_parser import create_jsplib_instance, JSPLIBInstance #, instance_names, instance_opti\n",
    "\n",
    "model = create_jsplib_instance(\"abz5\")\n",
    "pb = model.jsplib_to_jobshop()\n",
    "pb = JobShopProblem(list_jobs=[[Subjob(**x) for x in y] for y in pb])\n",
    "print(pb.n_jobs)\n",
    "print(pb.n_machines)\n",
    "print(pb.list_jobs[0][0])\n",
    "solver = SolverJobShop(jobshop_problem=pb)\n",
    "solution = solver.solve(max_time=10000)\n",
    "check_solution(solution, pb)\n",
    "plot_solution(solution, pb)"
   ]
  },
  {
   "cell_type": "code",
   "execution_count": null,
   "id": "6d680b0f",
   "metadata": {},
   "outputs": [],
   "source": []
  }
 ],
 "metadata": {
  "kernelspec": {
   "display_name": "Python 3 (ipykernel)",
   "language": "python",
   "name": "python3"
  },
  "language_info": {
   "codemirror_mode": {
    "name": "ipython",
    "version": 3
   },
   "file_extension": ".py",
   "mimetype": "text/x-python",
   "name": "python",
   "nbconvert_exporter": "python",
   "pygments_lexer": "ipython3",
   "version": "3.9.18"
  }
 },
 "nbformat": 4,
 "nbformat_minor": 5
}
