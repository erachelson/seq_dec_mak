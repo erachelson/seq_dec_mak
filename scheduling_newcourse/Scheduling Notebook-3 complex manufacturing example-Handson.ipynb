{
 "cells": [
  {
   "cell_type": "markdown",
   "id": "d17e54de",
   "metadata": {},
   "source": [
    "# Complex problems in Industry "
   ]
  },
  {
   "cell_type": "markdown",
   "id": "a4331b27",
   "metadata": {},
   "source": [
    "In industry environment, several parameters can increase the complexity of the scheduling problem :\n",
    "- number of task (>= hundreds task to schedule)\n",
    "- varying resource availability\n",
    "- individual worker to be taken into account : different availability of workers, skills and qualifications different from one worker to another one.\n",
    "- specific constraints of the industrial process :\n",
    "    - synchronisation of task, generalized precedence constraints (with time lags).\n",
    "    - possibility to pause and resume task (preemptive scheduling problems)\n",
    "..."
   ]
  },
  {
   "cell_type": "markdown",
   "id": "9e9308bf",
   "metadata": {},
   "source": [
    "In this notebook you'll code a CP model for RCPSP problem that you discovered in the first notebook of this course."
   ]
  },
  {
   "cell_type": "markdown",
   "id": "e0c4dd4c",
   "metadata": {},
   "source": [
    "<div class=\"alert alert-warning\">\n",
    "    <b>Exercise</b> appear in yellow.\n",
    "</div>\n",
    "\n",
    "\n",
    "<div class=\"alert alert-success\">\n",
    "    <b>Helps and hints</b> appear in green.\n",
    "</div>"
   ]
  },
  {
   "cell_type": "code",
   "execution_count": null,
   "id": "46abd1dc",
   "metadata": {},
   "outputs": [],
   "source": [
    "# Usefull imports.\n",
    "import sys, os\n",
    "os.environ[\"DO_SKIP_MZN_CHECK\"] = \"1\"\n",
    "# patching asyncio so that applications using async functions can run in jupyter\n",
    "import nest_asyncio\n",
    "nest_asyncio.apply()\n",
    "import logging\n",
    "logging.basicConfig(level=logging.INFO)\n",
    "import time\n",
    "from pprint import pprint\n",
    "from discrete_optimization.rcpsp.rcpsp_model import RCPSPModel, RCPSPSolution\n",
    "from discrete_optimization.rcpsp.rcpsp_parser import get_data_available, parse_file\n",
    "from discrete_optimization.rcpsp.rcpsp_utils import plot_ressource_view, plot_task_gantt"
   ]
  },
  {
   "cell_type": "markdown",
   "id": "00afdbb0",
   "metadata": {},
   "source": [
    "## Loading an RCPSP instance from industrial use case\n",
    "Some files are in the data/ folder of this repository and can be parsed into a ```RCPSPModel``` object."
   ]
  },
  {
   "cell_type": "code",
   "execution_count": null,
   "id": "0ef33360",
   "metadata": {},
   "outputs": [],
   "source": [
    "from script_utils.json_format import load_any_dict, load_any_json, load_instance_msrcpsp\n",
    "this_folder = os.path.dirname(os.getcwd())\n",
    "print(this_folder)\n",
    "folder_files_example = os.path.join(this_folder, \"scheduling_newcourse/data/advanced/\")\n",
    "list_files = os.listdir(folder_files_example)\n",
    "name_instance = \"instance_index_1_multiskill_False_calendar_False_specconstraints_False_preemptive_False.json\"\n",
    "rcpsp_model: RCPSPModel = load_any_json(os.path.join(folder_files_example, name_instance))\n",
    "print(rcpsp_model)"
   ]
  },
  {
   "cell_type": "markdown",
   "id": "bdfda945",
   "metadata": {},
   "source": [
    "## Computing dummy solution\n",
    "As simpler scheduling problem, we can still compute basic solution and plot it."
   ]
  },
  {
   "cell_type": "code",
   "execution_count": null,
   "id": "5ae13e12",
   "metadata": {},
   "outputs": [],
   "source": [
    "dummy_solution = rcpsp_model.get_dummy_solution()\n",
    "print(rcpsp_model.evaluate(dummy_solution))\n",
    "print(rcpsp_model.evaluate(dummy_solution)[\"makespan\"])"
   ]
  },
  {
   "cell_type": "code",
   "execution_count": null,
   "id": "74bfb180",
   "metadata": {},
   "outputs": [],
   "source": [
    "plot_ressource_view(rcpsp_model, dummy_solution)\n",
    "plot_task_gantt(rcpsp_model, dummy_solution)"
   ]
  },
  {
   "cell_type": "markdown",
   "id": "48d75437",
   "metadata": {},
   "source": [
    "# Code a CP model for RCPSP : "
   ]
  },
  {
   "cell_type": "markdown",
   "id": "1d3817d7",
   "metadata": {},
   "source": [
    "<div class=\"alert alert-warning\">\n",
    "<b>Problem #1: (medium/hard)</b><br />\n",
    "\n",
    "Coding a CP model for RCPSP\n",
    "</div>\n",
    "\n",
    "<div class=\"alert alert-success\">\n",
    "Don't hesitate to have a look at the slide deck defining precisely the constraints of the RCPSP problem, along with notebook n°1.\n",
    "</div>"
   ]
  },
  {
   "cell_type": "markdown",
   "id": "9d4fae61",
   "metadata": {},
   "source": [
    "### Helpers function\n",
    "We provide some function to return important date from the RCPSP model that we instanciated above."
   ]
  },
  {
   "cell_type": "code",
   "execution_count": null,
   "id": "b4fc7004",
   "metadata": {},
   "outputs": [],
   "source": [
    "from typing import List, Hashable, Dict\n",
    "def get_resource_names(rcpsp_model: RCPSPModel)->List[str]:\n",
    "    return rcpsp_model.resources_list\n",
    "\n",
    "def get_resource_capacity(rcpsp_model: RCPSPModel, res_name: str)->int:\n",
    "    return rcpsp_model.get_max_resource_capacity(res_name)\n",
    "\n",
    "def get_all_resource_capacity(rcpsp_model: RCPSPModel)->Dict[str, int]:\n",
    "    return {res: get_resource_capacity(rcpsp_model, res) for res in get_resource_names(rcpsp_model)}\n",
    "\n",
    "def get_tasks_list(rcpsp_model: RCPSPModel)->List[Hashable]:\n",
    "    return rcpsp_model.tasks_list\n",
    "\n",
    "def get_successors_of_task(rcpsp_model: RCPSPModel, task_name: Hashable)->List[Hashable]:\n",
    "    return rcpsp_model.successors.get(task_name, [])\n",
    "\n",
    "def get_all_successors(rcpsp_model: RCPSPModel)->Dict[Hashable, List[Hashable]]:\n",
    "    return rcpsp_model.successors\n",
    "\n",
    "def get_resource_demand(rcpsp_model: RCPSPModel, task_name: Hashable, res_name: str)->int:\n",
    "    return rcpsp_model.mode_details[task_name][1].get(res_name, 0)\n",
    "\n",
    "def get_duration(rcpsp_model: RCPSPModel, task_name: Hashable)->int:\n",
    "    return rcpsp_model.mode_details[task_name][1][\"duration\"]\n",
    "\n",
    "def get_duration_map(rcpsp_model: RCPSPModel)->Dict[Hashable, int]:\n",
    "    return {t: get_duration(rcpsp_model, t) for t in get_tasks_list(rcpsp_model)}\n",
    "\n",
    "def get_rcpsp_solution(rcpsp_model: RCPSPModel, starts_dict: Dict[Hashable, int],\n",
    "                       ends_dict: Dict[Hashable, int])->RCPSPSolution:\n",
    "    return RCPSPSolution(problem=rcpsp_model,\n",
    "                         rcpsp_schedule={t: {\"start_time\": starts_dict[t], \"end_time\": ends_dict[t]} \n",
    "                                         for t in starts_dict},\n",
    "                         rcpsp_modes=[1]*rcpsp_model.n_jobs_non_dummy, rcpsp_schedule_feasible=True)"
   ]
  },
  {
   "cell_type": "code",
   "execution_count": null,
   "id": "48604e3a",
   "metadata": {},
   "outputs": [],
   "source": [
    "from ortools.sat.python import cp_model\n",
    "model = cp_model.CpModel()"
   ]
  },
  {
   "cell_type": "markdown",
   "id": "1dda3219",
   "metadata": {},
   "source": [
    "<div class=\"alert alert-warning\">\n",
    "First part : create the needed variables. Please add in comment what the variables represent.\n",
    "</div>\n",
    "\n",
    "<div class=\"alert alert-success\">\n",
    "Should be quite close to job shop variables. \n",
    "You can use the dummy solution to get upper bounds of the makespan.\n",
    "</div>"
   ]
  },
  {
   "cell_type": "code",
   "execution_count": null,
   "id": "ef9f7792",
   "metadata": {},
   "outputs": [],
   "source": [
    "# TO FILL : add new variable to the model."
   ]
  },
  {
   "cell_type": "code",
   "execution_count": null,
   "id": "281aa942",
   "metadata": {},
   "outputs": [],
   "source": [
    "# %load correction/nb3_handson_1.py"
   ]
  },
  {
   "cell_type": "markdown",
   "id": "ac500cb3",
   "metadata": {},
   "source": [
    "<div class=\"alert alert-warning\">\n",
    "First part : create the Constraints, commenting what they represent.\n",
    "</div>\n",
    "\n",
    "<div class=\"alert alert-success\">\n",
    "Look at the slide deck of this morning, along with the first notebook.\n",
    "</div>"
   ]
  },
  {
   "cell_type": "code",
   "execution_count": null,
   "id": "69bcef30",
   "metadata": {},
   "outputs": [],
   "source": [
    "# To fill"
   ]
  },
  {
   "cell_type": "code",
   "execution_count": null,
   "id": "5b488d9c",
   "metadata": {},
   "outputs": [],
   "source": [
    "# %load correction/nb3_handson_2.py"
   ]
  },
  {
   "cell_type": "markdown",
   "id": "ba42df94",
   "metadata": {},
   "source": [
    "<div class=\"alert alert-warning\">\n",
    "Third part : create the objective function variable, and set minimization to the model\n",
    "</div>"
   ]
  },
  {
   "cell_type": "code",
   "execution_count": null,
   "id": "c2cb0429",
   "metadata": {},
   "outputs": [],
   "source": [
    "# TO FILL"
   ]
  },
  {
   "cell_type": "code",
   "execution_count": null,
   "id": "dabf0572",
   "metadata": {},
   "outputs": [],
   "source": [
    "# %load correction/nb3_handson_3.py"
   ]
  },
  {
   "cell_type": "markdown",
   "id": "d489a98e",
   "metadata": {},
   "source": [
    "### Solving the model"
   ]
  },
  {
   "cell_type": "markdown",
   "id": "56257cfd",
   "metadata": {},
   "source": [
    "To observe the progress of the solver, you can put a solution callback to print intermediary solutions."
   ]
  },
  {
   "cell_type": "code",
   "execution_count": null,
   "id": "c8289f6e",
   "metadata": {},
   "outputs": [],
   "source": [
    "class SolutionPrinter(cp_model.CpSolverSolutionCallback):\n",
    "    \"\"\"Print intermediate solutions quality\"\"\"\n",
    "\n",
    "    def __init__(self):\n",
    "        cp_model.CpSolverSolutionCallback.__init__(self)\n",
    "        self._solution_count = 0\n",
    "\n",
    "    def on_solution_callback(self):\n",
    "        print(\"Solution count : \", self._solution_count,\n",
    "              \"Objective : \", self.ObjectiveValue())\n",
    "        self._solution_count += 1\n",
    "\n",
    "    def solution_count(self):\n",
    "        return self._solution_count"
   ]
  },
  {
   "cell_type": "code",
   "execution_count": null,
   "id": "de6ae682",
   "metadata": {},
   "outputs": [],
   "source": [
    "solver = cp_model.CpSolver()\n",
    "solver.parameters.max_time_in_seconds = 30\n",
    "status = solver.Solve(model, SolutionPrinter())\n",
    "status_human = solver.StatusName(status)"
   ]
  },
  {
   "cell_type": "code",
   "execution_count": null,
   "id": "f7a084cd",
   "metadata": {},
   "outputs": [],
   "source": [
    "solver.ObjectiveValue()"
   ]
  },
  {
   "cell_type": "markdown",
   "id": "31c49fe9",
   "metadata": {},
   "source": [
    "<div class=\"alert alert-warning\">\n",
    "Last part : Retrieve the solution in a dictionnary : starts={key(task_name): start_time} and ends={key(task_name): end_time}\n",
    "</div>"
   ]
  },
  {
   "cell_type": "code",
   "execution_count": null,
   "id": "b49139b8",
   "metadata": {},
   "outputs": [],
   "source": [
    "# TO FILL\n",
    "starts_value = {t: None for t in tasks_list}\n",
    "ends_value = {t: None for t in tasks_list}\n",
    "# RETRIEVE THE VALUES FROM THE SOLVER RESULTS example if you have a variable starts[t] for a given task,\n",
    "# you can get its value by : solver.Value(starts[t])"
   ]
  },
  {
   "cell_type": "code",
   "execution_count": null,
   "id": "eeb91032",
   "metadata": {},
   "outputs": [],
   "source": [
    "# %load correction/nb3_handson_4.py"
   ]
  },
  {
   "cell_type": "markdown",
   "id": "72e2c11a",
   "metadata": {},
   "source": [
    "#### Create an object RCPSPSolution from the output of the CP Solver and plot it."
   ]
  },
  {
   "cell_type": "code",
   "execution_count": null,
   "id": "1e5ecd42",
   "metadata": {},
   "outputs": [],
   "source": [
    "solution = get_rcpsp_solution(rcpsp_model=rcpsp_model, starts_dict=starts_value,\n",
    "                              ends_dict=ends_value)\n",
    "satisfy = rcpsp_model.satisfy(solution)\n",
    "evaluation = rcpsp_model.evaluate(solution)\n",
    "print(\"Solution satisfy the constraints \", satisfy)\n",
    "print(evaluation)"
   ]
  },
  {
   "cell_type": "code",
   "execution_count": null,
   "id": "35d63652",
   "metadata": {},
   "outputs": [],
   "source": [
    "plot_ressource_view(rcpsp_model, solution)\n",
    "plot_task_gantt(rcpsp_model, solution)"
   ]
  },
  {
   "cell_type": "markdown",
   "id": "ddf2f194",
   "metadata": {},
   "source": [
    "#### Export the results "
   ]
  },
  {
   "cell_type": "code",
   "execution_count": null,
   "id": "16458a52",
   "metadata": {},
   "outputs": [],
   "source": [
    "import json\n",
    "import pickle\n",
    "import datetime\n",
    "folder_export = os.path.join(this_folder, \"export_result/\")\n",
    "if not os.path.exists(folder_export):\n",
    "    os.makedirs(folder_export)\n",
    "def export(rcpsp_solution: RCPSPSolution, name_instance: str, name_file:str, method:str=\"cp\"):\n",
    "    d = {\"schedule\": {t: {\"start_time\": int(rcpsp_solution.rcpsp_schedule[t][\"start_time\"]),\n",
    "                          \"end_time\": int(rcpsp_solution.rcpsp_schedule[t][\"end_time\"])}\n",
    "                      for t in rcpsp_solution.rcpsp_schedule},\n",
    "         \"makespan\": int(rcpsp_solution.problem.evaluate(rcpsp_solution)[\"makespan\"]),\n",
    "         \"satisfy\": rcpsp_solution.problem.satisfy(rcpsp_solution),\n",
    "         \"method\": method,\n",
    "         \"name_instance\": name_instance}\n",
    "    path_export = os.path.join(folder_export, name_file)\n",
    "    json.dump(d, open(path_export, 'w'), indent=4)\n",
    "    print(\"solution exported in \"+path_export)\n",
    "    return path_export\n",
    "\n",
    "now = datetime.datetime.now()    \n",
    "path_export = export(solution, \n",
    "                     name_instance=name_instance, \n",
    "                     name_file=\"my_results_\"+str(now)+\".json\",\n",
    "                     method=\"cp\")"
   ]
  },
  {
   "cell_type": "markdown",
   "id": "30db34e5",
   "metadata": {},
   "source": [
    "## More complex instance"
   ]
  },
  {
   "cell_type": "markdown",
   "id": "7844ad9e",
   "metadata": {},
   "source": [
    "<div class=\"alert alert-danger\">\n",
    "    <b>Optional Exercise</b>\n",
    "    This is a bonus part of this handson. Go there if you well understood the previous part and got a feasible solution to the classical RCPSP problem\n",
    "</div>"
   ]
  },
  {
   "cell_type": "code",
   "execution_count": null,
   "id": "ae1e5ecb",
   "metadata": {},
   "outputs": [],
   "source": [
    "name_instance_sc = \"instance_index_0_multiskill_False_calendar_False_specconstraints_True_preemptive_False.json\"\n",
    "rcpsp_model_sc: RCPSPModel = load_any_json(os.path.join(folder_files_example, name_instance_sc))\n",
    "print(rcpsp_model_sc)"
   ]
  },
  {
   "cell_type": "markdown",
   "id": "9254bdba",
   "metadata": {},
   "source": [
    "### Additional constraints description"
   ]
  },
  {
   "cell_type": "markdown",
   "id": "6635fc2e",
   "metadata": {},
   "source": [
    "#### Starting and ending time window \n",
    "in the 2 next cell, you have constraints on starting time and ending time for most of the tasks.\n",
    "Let $ws_{t,0},ws_{t,1} = startwindow[t]$ then the constraints is : \n",
    "\n",
    "- if $ws_{t,0} != None$ : $start_t>=ws_{t,0}$\n",
    "- if $ws_{t,1} != None$ : $start_t<=ws_{t,1}$\n",
    "\n",
    "Similarly : $we_{t,0},we_{t,1} = endwindow[t]$\n",
    "\n",
    "- if $we_{t,0} != None$ : $end_t>=we_{t,0}$\n",
    "- if $we_{t,1} != None$ : $end_t<=we_{t,1}$\n"
   ]
  },
  {
   "cell_type": "code",
   "execution_count": null,
   "id": "83aa1110",
   "metadata": {},
   "outputs": [],
   "source": [
    "rcpsp_model_sc.special_constraints.start_times_window"
   ]
  },
  {
   "cell_type": "code",
   "execution_count": null,
   "id": "52f98a1b",
   "metadata": {},
   "outputs": [],
   "source": [
    "rcpsp_model_sc.special_constraints.end_times_window"
   ]
  },
  {
   "cell_type": "markdown",
   "id": "a4717f37",
   "metadata": {},
   "source": [
    "#### Synchronisation constraints"
   ]
  },
  {
   "cell_type": "markdown",
   "id": "a9ede11e",
   "metadata": {},
   "source": [
    "1)  $\\forall (i,j)\\in {start\\_together}, start_i==start_j$\n",
    "2)  $\\forall (i,j)\\in {start\\_at\\_end}, start_j=end_i$\n",
    "3)  $\\forall (i,j,{offset}) \\in {start\\_after\\_nunit}, start_j \\geq start_i+offset$\n",
    "4)  $\\forall (i,j,{offset}) \\in {start\\_at\\_end\\_plus\\_offset}, start_j\\geq end_i+\\text{offset}$"
   ]
  },
  {
   "cell_type": "code",
   "execution_count": null,
   "id": "dc47c77e",
   "metadata": {},
   "outputs": [],
   "source": [
    "rcpsp_model_sc.special_constraints.start_together # List of (i,j)\n",
    "rcpsp_model_sc.special_constraints.start_at_end # List of (i,j)\n",
    "rcpsp_model_sc.special_constraints.start_after_nunit # List of (i,j,offset)\n",
    "rcpsp_model_sc.special_constraints.start_at_end_plus_offset # List of (i,j,offset)"
   ]
  },
  {
   "cell_type": "markdown",
   "id": "20854521",
   "metadata": {},
   "source": [
    "### CP modeling with additional constraints"
   ]
  },
  {
   "cell_type": "markdown",
   "id": "0162f61f",
   "metadata": {},
   "source": [
    "<div class=\"alert alert-danger\">\n",
    "    <b>Optional Exercise</b>\n",
    "    code the cp model !\n",
    "</div>"
   ]
  },
  {
   "cell_type": "code",
   "execution_count": null,
   "id": "d24bad17",
   "metadata": {},
   "outputs": [],
   "source": [
    "# CP MODEL \n",
    "model = cp_model.CpModel()"
   ]
  },
  {
   "cell_type": "code",
   "execution_count": null,
   "id": "b886a9db",
   "metadata": {},
   "outputs": [],
   "source": [
    "# %load correction/nb3_handson_bonus.py"
   ]
  },
  {
   "cell_type": "code",
   "execution_count": null,
   "id": "8bd91e6b",
   "metadata": {},
   "outputs": [],
   "source": [
    "solver = cp_model.CpSolver()\n",
    "solver.parameters.max_time_in_seconds = 30\n",
    "status = solver.Solve(model, SolutionPrinter())\n",
    "status_human = solver.StatusName(status)\n",
    "print(status_human)\n",
    "starts_value = {t: solver.Value(starts[t]) for t in tasks_list}\n",
    "ends_value = {t: solver.Value(ends[t]) for t in tasks_list}"
   ]
  },
  {
   "cell_type": "code",
   "execution_count": null,
   "id": "4bda29cd",
   "metadata": {},
   "outputs": [],
   "source": [
    "logging.basicConfig(level=logging.DEBUG)\n",
    "solution = get_rcpsp_solution(rcpsp_model=rcpsp_model_sc, \n",
    "                              starts_dict=starts_value,\n",
    "                              ends_dict=ends_value)\n",
    "satisfy = rcpsp_model_sc.satisfy(solution)\n",
    "evaluation = rcpsp_model_sc.evaluate(solution)\n",
    "print(\"Solution satisfy the constraints \", satisfy)\n",
    "print(evaluation)\n",
    "plot_ressource_view(rcpsp_model_sc, solution)\n",
    "plot_task_gantt(rcpsp_model_sc, solution)"
   ]
  },
  {
   "cell_type": "markdown",
   "id": "169c7feb",
   "metadata": {},
   "source": [
    "## Take into account resource availability in the problem\n",
    "\n",
    "In real life, the resource and worker are not available through the all horizon. Therefore, the resource capacity is not defined as a constant but as a vector giving $\\forall t\\in [0, horizon], k\\in Resources, b_{k,t}\\in \\mathcal{N}$.\n",
    "Let's build a rcpsp model with variable resource : \n"
   ]
  },
  {
   "cell_type": "code",
   "execution_count": null,
   "id": "60d2c6b1",
   "metadata": {},
   "outputs": [],
   "source": [
    "from discrete_optimization.rcpsp.rcpsp_parser import get_data_available, parse_file\n",
    "filepath = [f for f in get_data_available() if \"j1201_1.sm\" in f][0]\n",
    "rcpsp_model = parse_file(filepath)"
   ]
  },
  {
   "cell_type": "code",
   "execution_count": null,
   "id": "1aeb9469",
   "metadata": {},
   "outputs": [],
   "source": [
    "from typing import Optional\n",
    "import numpy as np\n",
    "import random\n",
    "def create_variable_resource(rcpsp_model: RCPSPModel,\n",
    "                             new_horizon: Optional[int],\n",
    "                             nb_breaks: int = 20):\n",
    "    resource_availability = {r: np.full(new_horizon,\n",
    "                                        rcpsp_model.get_max_resource_capacity(r))\n",
    "                             for r in rcpsp_model.resources_list}\n",
    "    for r in resource_availability:\n",
    "        for j in range(nb_breaks):\n",
    "            t = random.randint(0, len(resource_availability[r])-1)\n",
    "            len_break = random.randint(1, 5)\n",
    "            resource_availability[r][t:t+len_break] = 0\n",
    "    return RCPSPModel(resources=resource_availability,\n",
    "                      non_renewable_resources=rcpsp_model.non_renewable_resources,\n",
    "                      mode_details=rcpsp_model.mode_details,\n",
    "                      successors=rcpsp_model.successors,\n",
    "                      horizon=new_horizon-1,\n",
    "                      tasks_list=rcpsp_model.tasks_list,\n",
    "                      source_task=rcpsp_model.source_task,\n",
    "                      sink_task=rcpsp_model.sink_task)"
   ]
  },
  {
   "cell_type": "code",
   "execution_count": null,
   "id": "123eaf40",
   "metadata": {},
   "outputs": [],
   "source": [
    "rcpsp_model = create_variable_resource(rcpsp_model, new_horizon=rcpsp_model.horizon, nb_breaks=10)"
   ]
  },
  {
   "cell_type": "code",
   "execution_count": null,
   "id": "eac10e42",
   "metadata": {},
   "outputs": [],
   "source": [
    "import matplotlib.pyplot as plt\n",
    "fig, ax = plt.subplots(1)\n",
    "for r in rcpsp_model.resources_list:\n",
    "    ax.plot(rcpsp_model.get_resource_availability_array(r), label=r)\n",
    "ax.legend()"
   ]
  },
  {
   "cell_type": "markdown",
   "id": "3ad304d6",
   "metadata": {},
   "source": [
    "<div class=\"alert alert-danger\">\n",
    "    <b>Optional Exercise</b>\n",
    "    code the cp model of the RCPSP with variable resource availability\n",
    "</div>"
   ]
  },
  {
   "cell_type": "markdown",
   "id": "b0c600ba",
   "metadata": {},
   "source": [
    "Please write here the ideas you have, if any. You don't have to be fast enough to code everything !\n",
    "\n",
    "\"\n",
    "\n",
    "\n",
    "\n",
    "\""
   ]
  },
  {
   "cell_type": "code",
   "execution_count": null,
   "id": "b303edcc",
   "metadata": {},
   "outputs": [],
   "source": [
    "# %load correction/nb3_handson_bonus_variable_resource.py"
   ]
  },
  {
   "cell_type": "code",
   "execution_count": null,
   "id": "55785002",
   "metadata": {},
   "outputs": [],
   "source": [
    "solver = cp_model.CpSolver()\n",
    "solver.parameters.max_time_in_seconds = 30\n",
    "status = solver.Solve(model, SolutionPrinter())\n",
    "status_human = solver.StatusName(status)\n",
    "print(status_human)\n",
    "starts_value = {t: solver.Value(starts[t]) for t in tasks_list}\n",
    "ends_value = {t: solver.Value(ends[t]) for t in tasks_list}\n",
    "logging.basicConfig(level=logging.DEBUG)"
   ]
  },
  {
   "cell_type": "code",
   "execution_count": null,
   "id": "45e311e8",
   "metadata": {},
   "outputs": [],
   "source": [
    "solution = get_rcpsp_solution(rcpsp_model=rcpsp_model, \n",
    "                              starts_dict=starts_value,\n",
    "                              ends_dict=ends_value)\n",
    "satisfy = rcpsp_model.satisfy(solution)\n",
    "evaluation = rcpsp_model.evaluate(solution)\n",
    "print(\"Solution satisfy the constraints \", satisfy)\n",
    "print(evaluation)\n",
    "plot_ressource_view(rcpsp_model, solution)\n",
    "plot_task_gantt(rcpsp_model, solution)"
   ]
  }
 ],
 "metadata": {
  "kernelspec": {
   "display_name": "Python 3 (ipykernel)",
   "language": "python",
   "name": "python3"
  },
  "language_info": {
   "codemirror_mode": {
    "name": "ipython",
    "version": 3
   },
   "file_extension": ".py",
   "mimetype": "text/x-python",
   "name": "python",
   "nbconvert_exporter": "python",
   "pygments_lexer": "ipython3",
   "version": "3.9.0"
  }
 },
 "nbformat": 4,
 "nbformat_minor": 5
}
