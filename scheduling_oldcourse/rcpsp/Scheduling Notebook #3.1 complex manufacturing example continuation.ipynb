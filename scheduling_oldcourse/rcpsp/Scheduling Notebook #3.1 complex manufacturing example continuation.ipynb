{
 "cells": [
  {
   "cell_type": "markdown",
   "id": "d17e54de",
   "metadata": {},
   "source": [
    "# Complex problems in Industry #2 "
   ]
  },
  {
   "cell_type": "markdown",
   "id": "a4331b27",
   "metadata": {},
   "source": [
    "In industry environment, several parameters can increase the complexity of the scheduling problem :\n",
    "- number of task (>= hundreds task to schedule)\n",
    "- varying resource availability\n",
    "- individual worker to be taken into account : different availability of workers, skills and qualifications different from one worker to another one.\n",
    "- specific constraints of the industrial process :\n",
    "    - synchronisation of task, generalized precedence constraints (with time lags).\n",
    "    - possibility to pause and resume task (preemptive scheduling problems)\n",
    "..."
   ]
  },
  {
   "cell_type": "markdown",
   "id": "9e9308bf",
   "metadata": {},
   "source": [
    "In this notebook we'll focus the most on the fact that we have more synchronisation constraints between tasks ! They will be described later."
   ]
  },
  {
   "cell_type": "code",
   "execution_count": null,
   "id": "46abd1dc",
   "metadata": {},
   "outputs": [],
   "source": [
    "# Usefull imports.\n",
    "import sys, os\n",
    "import skdecide.hub\n",
    "# patching asyncio so that applications using async functions can run in jupyter\n",
    "import nest_asyncio\n",
    "nest_asyncio.apply()\n",
    "import logging\n",
    "logging.basicConfig(level=logging.INFO)\n",
    "import time\n",
    "from pprint import pprint\n",
    "this_folder = os.getcwd()\n",
    "sys.path.append(os.path.join(this_folder, \"discrete_optimisation/\"))"
   ]
  },
  {
   "cell_type": "code",
   "execution_count": null,
   "id": "fa58b5fb",
   "metadata": {},
   "outputs": [],
   "source": [
    "from script_utils.json_format import load_any_dict, load_any_json, load_instance_msrcpsp"
   ]
  },
  {
   "cell_type": "code",
   "execution_count": null,
   "id": "0ef33360",
   "metadata": {},
   "outputs": [],
   "source": [
    "folder_files_example = os.path.join(this_folder, \"data/advanced/\")\n",
    "list_files = os.listdir(folder_files_example)"
   ]
  },
  {
   "cell_type": "code",
   "execution_count": null,
   "id": "d00d47e3",
   "metadata": {},
   "outputs": [],
   "source": [
    "print(list_files)"
   ]
  },
  {
   "cell_type": "code",
   "execution_count": null,
   "id": "616a95d8",
   "metadata": {},
   "outputs": [],
   "source": [
    "from discrete_optimization.rcpsp.rcpsp_model import RCPSPModel, RCPSPSolution\n",
    "from discrete_optimization.rcpsp.rcpsp_parser import files_available, parse_file"
   ]
  },
  {
   "cell_type": "code",
   "execution_count": null,
   "id": "bea9ad5d",
   "metadata": {},
   "outputs": [],
   "source": [
    "name_instance = \"instance_index_1_multiskill_False_calendar_False_specconstraints_True_preemptive_False.json\""
   ]
  },
  {
   "cell_type": "code",
   "execution_count": null,
   "id": "1a5af793",
   "metadata": {},
   "outputs": [],
   "source": [
    "model: RCPSPModel = load_any_json(os.path.join(folder_files_example, name_instance))"
   ]
  },
  {
   "cell_type": "code",
   "execution_count": null,
   "id": "a594f020",
   "metadata": {},
   "outputs": [],
   "source": [
    "print(model)\n"
   ]
  },
  {
   "cell_type": "markdown",
   "id": "776cb82b",
   "metadata": {},
   "source": [
    "This time, the rcpsp model is slightly different from the previous notebook. the model contains the ```special_constraints``` attribute which stores different additional features of the problem to solve. Let's look at it :"
   ]
  },
  {
   "cell_type": "code",
   "execution_count": null,
   "id": "9fba6871",
   "metadata": {},
   "outputs": [],
   "source": [
    "special_constraints = model.special_constraints\n",
    "for attr in [\"start_together\", \"start_at_end\", \"start_after_nunit\",\n",
    "             \"start_at_end_plus_offset\"]:\n",
    "    print(attr, getattr(special_constraints, attr))"
   ]
  },
  {
   "cell_type": "markdown",
   "id": "1e1b6eac",
   "metadata": {},
   "source": [
    "- start_together = list of tuple of task id that should start together\n",
    "- start_at_end = list of tuple (t1, t2) where t2 should start exactly when t1 finishes\n",
    "- start_after_nunit = (t1,t2,lag) t2 should start at least \"lag\" unit of time after t1 started\n",
    "- start_at_end_plus_offset = (t1, t2, lag) : t2 should start at least \"lag\" unit of time after t1 finished."
   ]
  },
  {
   "cell_type": "markdown",
   "id": "bdfda945",
   "metadata": {},
   "source": [
    "## Computing dummy solution\n",
    "As simpler scheduling problem, we can still compute basic solution and plot it."
   ]
  },
  {
   "cell_type": "code",
   "execution_count": null,
   "id": "5ae13e12",
   "metadata": {},
   "outputs": [],
   "source": [
    "dummy_solution = model.get_dummy_solution()\n",
    "print(model.evaluate(dummy_solution))"
   ]
  },
  {
   "cell_type": "markdown",
   "id": "8006b042",
   "metadata": {},
   "source": [
    "There is now a constraint penalty field specifying that the constraints are broken by a given amount of time unit. There is no simple way of building <b>feasible</b> solution to this kind of scheduling problems."
   ]
  },
  {
   "cell_type": "code",
   "execution_count": null,
   "id": "a6783ae1",
   "metadata": {},
   "outputs": [],
   "source": [
    "from discrete_optimization.rcpsp.specialized_rcpsp.rcpsp_specialized_constraints import compute_constraints_details\n",
    "details = compute_constraints_details(dummy_solution, model.special_constraints)\n",
    "print(details)"
   ]
  },
  {
   "cell_type": "markdown",
   "id": "48d75437",
   "metadata": {},
   "source": [
    "# Code a new CP model : "
   ]
  },
  {
   "cell_type": "markdown",
   "id": "1d3817d7",
   "metadata": {},
   "source": [
    "This time, we will use [minizinc binding to python](https://minizinc-python.readthedocs.io/en/latest/) library. The minizinc model you wrote in the notebook #2 can be reused if you want to give it a try for this problem. The goal is to get scheduling solutions in a reasonable amount of time. So if you don't have any results after 60 s try to improve the efficiency of the cp model :\n",
    "- redundant constraints can be very usefull\n",
    "- [search strategies](https://www.minizinc.org/doc-2.5.5/en/mzn_search.html) can also be experimented to help the solver to assign first some variables."
   ]
  },
  {
   "cell_type": "code",
   "execution_count": null,
   "id": "ef9f7792",
   "metadata": {},
   "outputs": [],
   "source": [
    "from minizinc import Instance, Model, Solver, Status, Result\n",
    "from discrete_optimization.rcpsp.solver.cp_solvers import RCPSPSolCP\n",
    "from discrete_optimization.generic_tools.do_problem import build_evaluate_function_aggregated, ObjectiveHandling, \\\n",
    "    ParamsObjectiveFunction, build_aggreg_function_and_params_objective\n",
    "\n",
    "aggreg_sol, aggreg_from_dict_values, params_objective_function = \\\n",
    "    build_aggreg_function_and_params_objective(model, None)"
   ]
  },
  {
   "cell_type": "markdown",
   "id": "c188e0ab",
   "metadata": {},
   "source": [
    "<b>Exercise</b> : write down a model in minizinc that is able to return results for this new rcpsp model and specifies its path in the next cell."
   ]
  },
  {
   "cell_type": "code",
   "execution_count": null,
   "id": "c88bc81f",
   "metadata": {},
   "outputs": [],
   "source": [
    "file_minizinc = \"minizinc_to_fill/nb4_rcpsp_with_special_constraints.mzn\" # The file you should edit !\n",
    "file_minizinc = \"correction/nb4_rcpsp_with_special_constraints.mzn\""
   ]
  },
  {
   "cell_type": "markdown",
   "id": "36455dd7",
   "metadata": {},
   "source": []
  },
  {
   "cell_type": "code",
   "execution_count": null,
   "id": "e84aaa47",
   "metadata": {},
   "outputs": [],
   "source": [
    "### Instanciate the problem .\n"
   ]
  },
  {
   "cell_type": "code",
   "execution_count": null,
   "id": "8b6b9c08",
   "metadata": {},
   "outputs": [],
   "source": [
    "def instanciate(model: RCPSPModel): ### DEFINE INPUT OF THE INSTANCE, based on the rcpsp model.\n",
    "    index_in_minizinc = {model.tasks_list[i]: i+1 for i in range(model.n_jobs)}\n",
    "    max_time = model.horizon\n",
    "    n_res = len(model.resources_list)\n",
    "    rc = [model.get_max_resource_capacity(r) for r in model.resources_list]\n",
    "    n_tasks = model.n_jobs\n",
    "    d = [model.mode_details[t][1][\"duration\"] for t in model.tasks_list]\n",
    "    rr = [[model.mode_details[t][1][r] for t in model.tasks_list] for r in model.resources_list]\n",
    "    adj = [[False for t in model.tasks_list] for t in model.tasks_list]\n",
    "    for t in model.tasks_list:\n",
    "        for s in model.successors[t]:\n",
    "            adj[index_in_minizinc[t]-1][index_in_minizinc[s]-1] = True\n",
    "            \n",
    "            \n",
    "    model_cp = Model(file_minizinc)\n",
    "    custom_output_type = True\n",
    "    add_objective_makespan = True\n",
    "    ignore_sec_objective = True\n",
    "    if custom_output_type:\n",
    "        model_cp.output_type = RCPSPSolCP\n",
    "        custom_output_type = True\n",
    "    solver = Solver.lookup(\"chuffed\")\n",
    "    instance = Instance(solver, model_cp)        \n",
    "\n",
    "    instance[\"max_time\"] = 10000\n",
    "    instance[\"n_res\"] = n_res\n",
    "    instance[\"rc\"] = rc\n",
    "    instance[\"n_tasks\"] = n_tasks\n",
    "    instance[\"d\"] = d\n",
    "    instance[\"rr\"] = rr\n",
    "    instance[\"adj\"] = adj\n",
    "    # Special constraints\n",
    "    special_constraints = model.special_constraints\n",
    "    \"start_together\", \"start_at_end\", \"start_after_nunit\",\n",
    "    \"start_at_end_plus_offset\"\n",
    "    \n",
    "    nb_start_together = len(special_constraints.start_together)\n",
    "    tasks_start_together_1 = [index_in_minizinc[x[0]] for x in special_constraints.start_together]\n",
    "    tasks_start_together_2 = [index_in_minizinc[x[1]] for x in special_constraints.start_together]\n",
    "    \n",
    "    instance[\"nb_start_together\"] = nb_start_together\n",
    "    instance[\"tasks_start_together_1\"] = tasks_start_together_1\n",
    "    instance[\"tasks_start_together_2\"] = tasks_start_together_2\n",
    "    \n",
    "    \n",
    "    nb_start_after_nunit = len(special_constraints.start_after_nunit)\n",
    "    tasks_start_after_nunit_1 = [index_in_minizinc[x[0]] for x in special_constraints.start_after_nunit]\n",
    "    tasks_start_after_nunit_2 = [index_in_minizinc[x[1]] for x in special_constraints.start_after_nunit]\n",
    "    lags_start_after_nunit = [int(x[2]) for x in special_constraints.start_after_nunit]\n",
    "    \n",
    "    instance[\"nb_start_after_nunit\"] = nb_start_after_nunit\n",
    "    instance[\"tasks_start_after_nunit_1\"] = tasks_start_after_nunit_1\n",
    "    instance[\"tasks_start_after_nunit_2\"] = tasks_start_after_nunit_2\n",
    "    instance[\"lags_start_after_nunit\"] = lags_start_after_nunit\n",
    "    \n",
    "    \n",
    "    nb_start_at_end_plus_offset = len(special_constraints.start_at_end_plus_offset)\n",
    "    tasks_start_at_end_plus_offset_1 = [index_in_minizinc[x[0]] for x in special_constraints.start_at_end_plus_offset]\n",
    "    tasks_start_at_end_plus_offset_2 = [index_in_minizinc[x[1]] for x in special_constraints.start_at_end_plus_offset]\n",
    "    lags_start_at_end_plus_offset = [int(x[2]) for x in special_constraints.start_at_end_plus_offset]\n",
    "    \n",
    "    instance[\"nb_start_at_end_plus_offset\"] = nb_start_at_end_plus_offset\n",
    "    instance[\"tasks_start_at_end_plus_offset_1\"] = tasks_start_at_end_plus_offset_1\n",
    "    instance[\"tasks_start_at_end_plus_offset_2\"] = tasks_start_at_end_plus_offset_2\n",
    "    instance[\"lags_start_at_end_plus_offset\"] = lags_start_at_end_plus_offset\n",
    "    \n",
    "    nb_start_at_end = len(special_constraints.start_at_end)\n",
    "    tasks_start_at_end_1 = [index_in_minizinc[x[0]] for x in special_constraints.start_at_end]\n",
    "    tasks_start_at_end_2 = [index_in_minizinc[x[1]] for x in special_constraints.start_at_end]\n",
    "    \n",
    "    instance[\"nb_start_at_end\"] = nb_start_at_end\n",
    "    instance[\"tasks_start_at_end_1\"] = tasks_start_at_end_1\n",
    "    instance[\"tasks_start_at_end_2\"] = tasks_start_at_end_2\n",
    "    \n",
    "    \n",
    "    start_times_window = special_constraints.start_times_window\n",
    "    l_low = [(t, start_times_window[t][0])\n",
    "            for t in start_times_window if start_times_window[t][0] is not None]\n",
    "    l_up = [(t, start_times_window[t][1])\n",
    "            for t in start_times_window if start_times_window[t][1] is not None]\n",
    "    nb_start_window_low = len(l_low)\n",
    "    task_id_low_start = [index_in_minizinc[x[0]] for x in l_low]\n",
    "    times_low_start = [x[1] for x in l_low]\n",
    "    \n",
    "    nb_start_window_up = len(l_up)\n",
    "    task_id_up_start = [index_in_minizinc[x[0]] for x in l_up]\n",
    "    times_up_start = [x[1] for x in l_up]\n",
    "    \n",
    "    instance[\"nb_start_window_low\"] = nb_start_window_low\n",
    "    instance[\"task_id_low_start\"] = task_id_low_start\n",
    "    instance[\"times_low_start\"] = times_low_start\n",
    "    \n",
    "    instance[\"nb_start_window_up\"] = nb_start_window_up\n",
    "    instance[\"task_id_up_start\"] = task_id_up_start\n",
    "    instance[\"times_up_start\"] = times_up_start\n",
    "    \n",
    "    \n",
    "    end_times_window = special_constraints.end_times_window\n",
    "    l_low = [(t, end_times_window[t][0])\n",
    "            for t in end_times_window if end_times_window[t][0] is not None]\n",
    "    l_up = [(t, end_times_window[t][1])\n",
    "            for t in end_times_window if end_times_window[t][1] is not None]\n",
    "    nb_end_window_low = len(l_low)\n",
    "    task_id_low_end = [index_in_minizinc[x[0]] for x in l_low]\n",
    "    times_low_end = [x[1] for x in l_low]\n",
    "    \n",
    "    nb_end_window_up = len(l_up)\n",
    "    task_id_up_end = [index_in_minizinc[x[0]] for x in l_up]\n",
    "    times_up_end = [x[1] for x in l_up]\n",
    "    \n",
    "    \n",
    "    instance[\"nb_end_window_low\"] = nb_end_window_low\n",
    "    instance[\"task_id_low_end\"] = task_id_low_end\n",
    "    instance[\"times_low_end\"] = times_low_end\n",
    "    \n",
    "    instance[\"nb_end_window_up\"] = nb_end_window_up\n",
    "    instance[\"task_id_up_end\"] = task_id_up_end\n",
    "    instance[\"times_up_end\"] = times_up_end\n",
    "    return instance"
   ]
  },
  {
   "cell_type": "code",
   "execution_count": null,
   "id": "56b9bf25",
   "metadata": {},
   "outputs": [],
   "source": [
    "instance = instanciate(model=model)"
   ]
  },
  {
   "cell_type": "code",
   "execution_count": null,
   "id": "9369b7cc",
   "metadata": {},
   "outputs": [],
   "source": [
    "## Utility function to retrieve RCPSPSolution object from the output of minizinc call.\n",
    "def retrieve_solution_from_cp(result, rcpsp_model):\n",
    "    intermediate_solutions = True\n",
    "    best_solution = None\n",
    "    best_makespan = -float(\"inf\")\n",
    "    list_solutions_fit = []\n",
    "    starts = []\n",
    "    if intermediate_solutions:\n",
    "        for i in range(len(result)):\n",
    "            if isinstance(result[i], RCPSPSolCP):\n",
    "                starts += [result[i].dict[\"s\"]]\n",
    "            else:\n",
    "                starts += [result[i, \"s\"]]\n",
    "    else:\n",
    "        if isinstance(result, RCPSPSolCP):\n",
    "            starts += [result.dict[\"s\"]]\n",
    "        else:\n",
    "            starts = [result[\"s\"]]\n",
    "\n",
    "    for start_times in starts:\n",
    "        rcpsp_schedule = {}\n",
    "        for k in range(len(start_times)):\n",
    "            t = rcpsp_model.tasks_list[k]\n",
    "            rcpsp_schedule[rcpsp_model.tasks_list[k]] = \\\n",
    "                    {'start_time': start_times[k],\n",
    "                     'end_time': start_times[k]\n",
    "                     + rcpsp_model.mode_details[t][1]['duration']}\n",
    "        sol = RCPSPSolution(problem=rcpsp_model,\n",
    "                            rcpsp_schedule=rcpsp_schedule,\n",
    "                            rcpsp_modes=[1 for i in range(rcpsp_model.n_jobs_non_dummy)],\n",
    "                            rcpsp_schedule_feasible=True)\n",
    "        objective = aggreg_from_dict_values(rcpsp_model.evaluate(sol))\n",
    "        if objective > best_makespan:\n",
    "            best_makespan = objective\n",
    "            best_solution = sol.copy()\n",
    "        list_solutions_fit += [(sol, objective)]\n",
    "    result_storage = ResultStorage(list_solution_fits=list_solutions_fit,\n",
    "                                   best_solution=best_solution,\n",
    "                                   mode_optim=params_objective_function.sense_function,\n",
    "                                   limit_store=False)\n",
    "    return result_storage"
   ]
  },
  {
   "cell_type": "code",
   "execution_count": null,
   "id": "cd4cc6be",
   "metadata": {},
   "outputs": [],
   "source": [
    "import time\n",
    "import pickle\n",
    "import json\n",
    "from datetime import timedelta\n",
    "from discrete_optimization.generic_tools.result_storage.result_storage import ResultStorage\n",
    "result = instance.solve(timeout=timedelta(seconds=30),\n",
    "                        intermediate_solutions=True,\n",
    "                        free_search=False, verbose=True)"
   ]
  },
  {
   "cell_type": "code",
   "execution_count": null,
   "id": "a510478e",
   "metadata": {},
   "outputs": [],
   "source": [
    "results_storage = retrieve_solution_from_cp(result, model)\n",
    "best_solution, fit = results_storage.get_best_solution_fit()\n",
    "print(model.evaluate(best_solution))\n",
    "print(\"Best solution has a fitness of \", fit)"
   ]
  },
  {
   "cell_type": "markdown",
   "id": "ddf2f194",
   "metadata": {},
   "source": [
    "## Export the results "
   ]
  },
  {
   "cell_type": "code",
   "execution_count": null,
   "id": "16458a52",
   "metadata": {},
   "outputs": [],
   "source": [
    "import json\n",
    "import pickle\n",
    "import datetime\n",
    "folder_export = os.path.join(this_folder, \"export_result/\")\n",
    "if not os.path.exists(folder_export):\n",
    "    os.makedirs(folder_export)\n",
    "def export(rcpsp_solution: RCPSPSolution, name_instance: str, name_file:str, method:str=\"cp\"):\n",
    "    d = {\"schedule\": {t: {\"start_time\": int(rcpsp_solution.rcpsp_schedule[t][\"start_time\"]),\n",
    "                          \"end_time\": int(rcpsp_solution.rcpsp_schedule[t][\"end_time\"])}\n",
    "                      for t in rcpsp_solution.rcpsp_schedule},\n",
    "         \"makespan\": int(rcpsp_solution.problem.evaluate(rcpsp_solution)[\"makespan\"]),\n",
    "         \"satisfy\": rcpsp_solution.problem.satisfy(rcpsp_solution),\n",
    "         \"method\": method,\n",
    "         \"name_instance\": name_instance}\n",
    "    path_export = os.path.join(folder_export, name_file)\n",
    "    json.dump(d, open(path_export, 'w'), indent=4)\n",
    "    print(\"solution exported in \"+path_export)\n",
    "    return path_export\n",
    "now = datetime.datetime.now()    \n",
    "path_export = export(best_solution, name_instance=name_instance, name_file=\"my_results_\"+str(now)+\".json\",\n",
    "                     method=\"cp\")"
   ]
  },
  {
   "cell_type": "markdown",
   "id": "bad5abd6",
   "metadata": {},
   "source": [
    "### Explore the results : \n",
    "When running the CP Solver, several solutions had been explored, and they are all stored in the results_storage object."
   ]
  },
  {
   "cell_type": "code",
   "execution_count": null,
   "id": "fd8063a6",
   "metadata": {},
   "outputs": [],
   "source": [
    "import matplotlib.pyplot as plt\n",
    "plt.title(\"Evolution of makespan through the CP Solving..\")\n",
    "plt.plot([x[1] for x in results_storage.list_solution_fits])"
   ]
  },
  {
   "cell_type": "markdown",
   "id": "ab7acd22",
   "metadata": {},
   "source": [
    "# Bonus experiment ...Local Search !"
   ]
  },
  {
   "cell_type": "code",
   "execution_count": null,
   "id": "22252ec1",
   "metadata": {},
   "outputs": [],
   "source": [
    "import numpy as np\n",
    "from discrete_optimization.generic_tools.ls.hill_climber import HillClimber\n",
    "from discrete_optimization.generic_tools.ls.simulated_annealing import TemperatureSchedulingFactor, SimulatedAnnealing\n",
    "from discrete_optimization.generic_tools.ls.local_search import RestartHandlerLimit, ModeMutation\n",
    "from discrete_optimization.rcpsp.mutations.mutation_rcpsp import PermutationMutationRCPSP, DeadlineMutationRCPSP\n",
    "from discrete_optimization.generic_tools.mutations.mixed_mutation import BasicPortfolioMutation\n",
    "from discrete_optimization.generic_tools.mutations.permutation_mutations import PermutationShuffleMutation, \\\n",
    "    PermutationPartialShuffleMutation, PermutationSwap, TwoOptMutation\n",
    "\n",
    "def solve_using_ls(rcpsp_problem: RCPSPModel, \n",
    "                   dummy_solution: RCPSPSolution):\n",
    "    mutations = [(PermutationMutationRCPSP, {\"other_mutation\": PermutationShuffleMutation}),\n",
    "                 (PermutationMutationRCPSP, {\"other_mutation\": DeadlineMutationRCPSP}),\n",
    "                 (PermutationMutationRCPSP, {\"proportion\": 0.2, \"other_mutation\": PermutationPartialShuffleMutation}),\n",
    "                 (PermutationMutationRCPSP, {\"nb_swap\": 3, \"other_mutation\": PermutationSwap}),\n",
    "                 (PermutationMutationRCPSP, {\"other_mutation\": TwoOptMutation})]\n",
    "    list_mutation = [mutate[0].build(rcpsp_problem,\n",
    "                                     dummy_solution,\n",
    "                                     **mutate[1]) for mutate in mutations\n",
    "                     if mutate[0] == PermutationMutationRCPSP]\n",
    "    mixed_mutation = BasicPortfolioMutation(list_mutation,\n",
    "                                            np.ones((len(list_mutation))))\n",
    "    res = RestartHandlerLimit(nb_iteration_no_improvement=300,\n",
    "                              cur_solution=dummy_solution,\n",
    "                              cur_objective=model.evaluate(dummy_solution))\n",
    "    ls = None\n",
    "    ls_solver = \"sa\"\n",
    "    if ls_solver == \"sa\":\n",
    "        ls = SimulatedAnnealing(evaluator=rcpsp_problem,\n",
    "                                mutator=mixed_mutation,\n",
    "                                restart_handler=res,\n",
    "                                temperature_handler=\n",
    "                                TemperatureSchedulingFactor(temperature=3,\n",
    "                                                            restart_handler=res,\n",
    "                                                            coefficient=0.999),\n",
    "                                mode_mutation=ModeMutation.MUTATE,\n",
    "                                store_solution=False,\n",
    "                                nb_solutions=10000)\n",
    "    elif ls_solver == \"hc\":\n",
    "        ls = HillClimber(evaluator=rcpsp_problem,\n",
    "                         mutator=mixed_mutation,\n",
    "                         restart_handler=res,\n",
    "                         mode_mutation=ModeMutation.MUTATE,\n",
    "                         store_solution=True,\n",
    "                         nb_solutions=10000)\n",
    "    result_sa = ls.solve(dummy_solution,\n",
    "                         nb_iteration_max=200000,\n",
    "                         max_time_seconds=100,\n",
    "                         pickle_result=False)\n",
    "    return result_sa"
   ]
  },
  {
   "cell_type": "code",
   "execution_count": null,
   "id": "e7a61183",
   "metadata": {},
   "outputs": [],
   "source": [
    "results_local_search = solve_using_ls(rcpsp_problem=model, dummy_solution=dummy_solution)"
   ]
  },
  {
   "cell_type": "code",
   "execution_count": null,
   "id": "54a928e9",
   "metadata": {},
   "outputs": [],
   "source": [
    "best_solution = results_local_search.get_best_solution()\n",
    "now = datetime.datetime.now()    \n",
    "path_export = export(best_solution, \n",
    "                     name_instance=name_instance, \n",
    "                     name_file=\"my_results_\"+str(now)+\".json\",\n",
    "                     method=\"local-search\")"
   ]
  },
  {
   "cell_type": "code",
   "execution_count": null,
   "id": "a8afd772",
   "metadata": {},
   "outputs": [],
   "source": [
    "import matplotlib.pyplot as plt\n",
    "plt.title(\"Evolution of makespan through the Local Search ..\")\n",
    "plt.ylabel(\"minus makespan\")\n",
    "plt.xlabel(\"# solution\")\n",
    "plt.plot([x[1] for x in results_local_search.list_solution_fits])"
   ]
  }
 ],
 "metadata": {
  "kernelspec": {
   "display_name": "isae_course",
   "language": "python",
   "name": "isae_course"
  },
  "language_info": {
   "codemirror_mode": {
    "name": "ipython",
    "version": 3
   },
   "file_extension": ".py",
   "mimetype": "text/x-python",
   "name": "python",
   "nbconvert_exporter": "python",
   "pygments_lexer": "ipython3",
   "version": "3.7.13"
  }
 },
 "nbformat": 4,
 "nbformat_minor": 5
}
