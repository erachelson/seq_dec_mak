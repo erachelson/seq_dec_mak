{
 "cells": [
  {
   "cell_type": "markdown",
   "id": "c7cf2032",
   "metadata": {},
   "source": [
    "# Modelling scheduling problem as constraint programming "
   ]
  },
  {
   "cell_type": "markdown",
   "id": "3d267234",
   "metadata": {},
   "source": [
    "In this AIBT you learnt how to model a combinatorial optimisation problem using either Constraint Programming or Mixed Integer Linear programming paradigm. https://www.xoolive.org/optim4ai/\n",
    "\n",
    "In this notebook you will be able to apply your modelling abilities to model RCPSP problem.\n",
    "Contrary to your first course, a more scheduling oriented CP solver will be used. It is the [Ortools CPSAT solver](https://developers.google.com/optimization/cp/cp_solver)"
   ]
  },
  {
   "cell_type": "markdown",
   "id": "150f2748",
   "metadata": {},
   "source": [
    "<div class=\"alert alert-warning\">\n",
    "    <b>Questions</b> appear in yellow.\n",
    "</div>"
   ]
  },
  {
   "cell_type": "markdown",
   "id": "d98ba46e",
   "metadata": {},
   "source": [
    "## Ortools basics"
   ]
  },
  {
   "cell_type": "code",
   "execution_count": null,
   "id": "768fe01c",
   "metadata": {},
   "outputs": [],
   "source": [
    "from ortools.sat.python import cp_model"
   ]
  },
  {
   "cell_type": "markdown",
   "id": "6c10f1cc",
   "metadata": {},
   "source": [
    "### Creating a CP Model : "
   ]
  },
  {
   "cell_type": "code",
   "execution_count": null,
   "id": "896f9379",
   "metadata": {},
   "outputs": [],
   "source": [
    "model = cp_model.CpModel()"
   ]
  },
  {
   "cell_type": "markdown",
   "id": "38774114",
   "metadata": {},
   "source": [
    "### Creating your first integer variables"
   ]
  },
  {
   "cell_type": "code",
   "execution_count": null,
   "id": "675fe76d",
   "metadata": {},
   "outputs": [],
   "source": [
    "# Doc : \n",
    "model.NewIntVar??"
   ]
  },
  {
   "cell_type": "code",
   "execution_count": null,
   "id": "875fea0b",
   "metadata": {},
   "outputs": [],
   "source": [
    "x = model.NewIntVar(0, 10, \"x\")\n",
    "y = model.NewIntVar(0, 20, \"y\")"
   ]
  },
  {
   "cell_type": "markdown",
   "id": "ea030537",
   "metadata": {},
   "source": [
    "### Creating your first constraint"
   ]
  },
  {
   "cell_type": "code",
   "execution_count": null,
   "id": "2e36267a",
   "metadata": {},
   "outputs": [],
   "source": [
    "model.Add(x+y<=10)"
   ]
  },
  {
   "cell_type": "markdown",
   "id": "58b4d186",
   "metadata": {},
   "source": [
    "### Setting objective function"
   ]
  },
  {
   "cell_type": "code",
   "execution_count": null,
   "id": "63d38316",
   "metadata": {},
   "outputs": [],
   "source": [
    "model.Maximize(x+y)"
   ]
  },
  {
   "cell_type": "markdown",
   "id": "9dd68e34",
   "metadata": {},
   "source": [
    "### Solving"
   ]
  },
  {
   "cell_type": "code",
   "execution_count": null,
   "id": "7144fb3c",
   "metadata": {},
   "outputs": [],
   "source": [
    "solver = cp_model.CpSolver()\n",
    "solver.parameters.enumerate_all_solutions = True\n",
    "status = solver.Solve(model)\n",
    "status_human = solver.StatusName(status)\n",
    "print(status_human)"
   ]
  },
  {
   "cell_type": "code",
   "execution_count": null,
   "id": "09f8dd90",
   "metadata": {},
   "outputs": [],
   "source": [
    "value_x = solver.Value(x)\n",
    "value_y = solver.Value(y)\n",
    "print(value_x, value_y)"
   ]
  },
  {
   "cell_type": "markdown",
   "id": "a1847fa7",
   "metadata": {},
   "source": [
    "### Interval variables for scheduling"
   ]
  },
  {
   "cell_type": "markdown",
   "id": "f7c2887b",
   "metadata": {},
   "source": [
    "CP-SAT solver from Ortools has a big focus on scheduling problems. Therefore, it uses the concept of interval variables"
   ]
  },
  {
   "cell_type": "code",
   "execution_count": null,
   "id": "4d0c6b90",
   "metadata": {},
   "outputs": [],
   "source": [
    "model.NewIntervalVar??"
   ]
  },
  {
   "cell_type": "markdown",
   "id": "2534f42c",
   "metadata": {},
   "source": [
    "Here's a simple example where we have 1 task to schedule with a duration of 10 and we want to schedule it as late as possible considering the allowed range $[0, 20]$"
   ]
  },
  {
   "cell_type": "code",
   "execution_count": null,
   "id": "6f5efeed",
   "metadata": {},
   "outputs": [],
   "source": [
    "model = cp_model.CpModel()\n",
    "start = model.NewIntVar(0, 20, \"start\")\n",
    "end = model.NewIntVar(0, 20, \"end\")\n",
    "duration = 10\n",
    "task_var = model.NewIntervalVar(start, duration, end, name=\"task\")\n",
    "model.Maximize(start)\n",
    "\n",
    "solver = cp_model.CpSolver()\n",
    "solver.parameters.enumerate_all_solutions = True\n",
    "status = solver.Solve(model)\n",
    "status_human = solver.StatusName(status)\n",
    "print(status_human)\n",
    "print(\"Task scheduled between time : \", solver.Value(start), solver.Value(end))"
   ]
  },
  {
   "cell_type": "markdown",
   "id": "7ee08b79",
   "metadata": {},
   "source": [
    "### Global constraints on interval"
   ]
  },
  {
   "cell_type": "markdown",
   "id": "bb25bda9",
   "metadata": {},
   "source": [
    "#### No overlap constraint\n",
    "The <b>NoOverlap</b> constraint takes as input a list of interval variables, and forbid any overlap between the intervals. It can be usefull for problem where a given list of task have to be done by the same machine or worker."
   ]
  },
  {
   "cell_type": "code",
   "execution_count": null,
   "id": "4e7e6989",
   "metadata": {},
   "outputs": [],
   "source": [
    "# Look at the documentation in ortools library\n",
    "model.AddNoOverlap?"
   ]
  },
  {
   "cell_type": "markdown",
   "id": "f4975be7",
   "metadata": {},
   "source": [
    "#### Cumulative resource constraint\n",
    "The <b>Cumulative</b> constraint insures that at any time, a set of interval consuming a given quantity of resource don't overconsume a given capacity."
   ]
  },
  {
   "cell_type": "code",
   "execution_count": null,
   "id": "e3d672dc",
   "metadata": {},
   "outputs": [],
   "source": [
    "model.AddCumulative?"
   ]
  },
  {
   "cell_type": "markdown",
   "id": "bf109a75",
   "metadata": {},
   "source": [
    "## Job shop problem"
   ]
  },
  {
   "cell_type": "markdown",
   "id": "2479e67d",
   "metadata": {},
   "source": [
    "<div class=\"alert alert-warning\">\n",
    "<b>Problem #1: (medium)</b><br />\n",
    "\n",
    "Simple job shop problem\n",
    "</div>\n",
    "\n",
    "<div class=\"alert alert-info\">\n",
    "The original problem is stated as follows:\n",
    "<blockquote>\n",
    "Each job consists of a sequence of tasks, which must be performed in a given order, and each task must be processed on a specific machine. For example, the job could be the manufacture of a single consumer item, such as an automobile. The problem is to schedule the tasks on the machines so as to minimize the length of the schedule—the time it takes for all the jobs to be completed.\n",
    "There are several constraints for the job shop problem:\n",
    "No task for a job can be started until the previous task for that job is completed.\n",
    "A machine can only work on one task at a time.\n",
    "A task, once started, must run to completion.\n",
    "<br/><br/>\n",
    "</blockquote>\n",
    "\n",
    "</div>"
   ]
  },
  {
   "cell_type": "markdown",
   "id": "f7500dac",
   "metadata": {},
   "source": [
    "## Object oriented placeholder\n",
    "Let's define some structure to store the input data of a job shop problem.\n",
    "A jobshop problem is defined by a number of machines, a list of jobs themselves composed of several Subjob to execute in order. "
   ]
  },
  {
   "cell_type": "code",
   "execution_count": null,
   "id": "7741cea7",
   "metadata": {},
   "outputs": [],
   "source": [
    "from typing import List\n",
    "class Subjob:\n",
    "    machine_id: int\n",
    "    processing_time: int\n",
    "    def __init__(self, machine_id, processing_time):\n",
    "        self.machine_id = machine_id\n",
    "        self.processing_time = processing_time\n",
    "    def __str__(self):\n",
    "        return f\"machine and duration : {self.machine_id, self.processing_time}\"\n",
    "        \n",
    "class JobShopProblem:\n",
    "    n_jobs: int\n",
    "    n_machines: int\n",
    "    list_jobs: List[List[Subjob]]\n",
    "    def __init__(self, list_jobs: List[List[Subjob]], n_jobs: int=None, n_machines: int=None):\n",
    "        self.n_jobs = n_jobs\n",
    "        self.n_machines = n_machines\n",
    "        self.list_jobs = list_jobs\n",
    "        if self.n_jobs is None:\n",
    "            self.n_jobs = len(list_jobs)\n",
    "        if self.n_machines is None:\n",
    "            self.n_machines = len(set([y.machine_id for x in self.list_jobs\n",
    "                                       for y in x]))\n",
    "        # Store for each machine the list of subjob given as (index_job, index_subjob)\n",
    "        self.job_per_machines = {i: [] for i in range(self.n_machines)}\n",
    "        for k in range(self.n_jobs):\n",
    "            for sub_k in range(len(list_jobs[k])):\n",
    "                self.job_per_machines[list_jobs[k][sub_k].machine_id] += [(k, sub_k)]"
   ]
  },
  {
   "cell_type": "markdown",
   "id": "f5376f4c",
   "metadata": {},
   "source": [
    "### Example : "
   ]
  },
  {
   "cell_type": "code",
   "execution_count": null,
   "id": "d206b11c",
   "metadata": {},
   "outputs": [],
   "source": [
    "job_0 = [Subjob(machine_id=0, processing_time=3), Subjob(1, 2), Subjob(2, 2)]\n",
    "job_1 = [Subjob(0, 2), Subjob(2, 1), Subjob(1, 4)]\n",
    "job_2 = [Subjob(1, 4), Subjob(2, 3)]\n",
    "example_jobshop = JobShopProblem(list_jobs=[job_0, job_1, job_2])\n",
    "print(example_jobshop.job_per_machines)"
   ]
  },
  {
   "cell_type": "markdown",
   "id": "7185c48b",
   "metadata": {},
   "source": [
    "### Solution encoding : \n",
    "we will choose how to encode a schedule solution in a specific object too."
   ]
  },
  {
   "cell_type": "code",
   "execution_count": null,
   "id": "07eb60df",
   "metadata": {},
   "outputs": [],
   "source": [
    "from typing import Tuple\n",
    "class SolutionJobshop:\n",
    "    def __init__(self, schedule: List[List[Tuple[int, int]]]):\n",
    "        # For each job and subjob, start and end time given as tuple of int.\n",
    "        self.schedule = schedule"
   ]
  },
  {
   "cell_type": "markdown",
   "id": "b468f53d",
   "metadata": {},
   "source": [
    "### Checking of a solution\n",
    "We can code a python function verifying if a solution is valid. That could help you debug your CP model afterwards."
   ]
  },
  {
   "cell_type": "code",
   "execution_count": null,
   "id": "7990d9a3",
   "metadata": {},
   "outputs": [],
   "source": [
    "def check_solution(solution: SolutionJobshop, problem: JobShopProblem):\n",
    "    if len(solution.schedule)!=problem.n_jobs:\n",
    "        print(\"solution schedule should be same size as the problem\")\n",
    "        return False\n",
    "    for k in range(problem.n_jobs):\n",
    "        if len(solution.schedule[k])!=len(problem.list_jobs[k]):\n",
    "            print(f\"solution schedule for task n°{k} should be coherent with problem\")\n",
    "            return False\n",
    "        for sub_k in range(len(solution.schedule[k])):\n",
    "            if solution.schedule[k][sub_k][1]-solution.schedule[k][sub_k][0]!=problem.list_jobs[k][sub_k].processing_time:\n",
    "                print(f\"Duration of task should be coherent with problem\")\n",
    "                return False\n",
    "            if sub_k>=1:\n",
    "                if not (solution.schedule[k][sub_k][0]>=solution.schedule[k][sub_k-1][1]):\n",
    "                    print(f\"Precedence constraint between consecutive subtask not respected\")\n",
    "                    return False\n",
    "    for machine in problem.job_per_machines:\n",
    "        sorted_job = sorted([solution.schedule[x[0]][x[1]]\n",
    "                             for x in problem.job_per_machines[machine]])\n",
    "        for l in range(1, len(sorted_job)):\n",
    "            if not (sorted_job[l][0]>=sorted_job[l-1][1]):\n",
    "                print(\"Some task are overlaping in one machine\")\n",
    "                return False\n",
    "    print(\"Constraint satisfied\")\n",
    "    return True"
   ]
  },
  {
   "cell_type": "markdown",
   "id": "bcc1acd7",
   "metadata": {},
   "source": [
    "### Plotting of a solution"
   ]
  },
  {
   "cell_type": "code",
   "execution_count": null,
   "id": "21173399",
   "metadata": {},
   "outputs": [],
   "source": [
    "import matplotlib.pyplot as plt\n",
    "import matplotlib\n",
    "from matplotlib.collections import PatchCollection\n",
    "from matplotlib.patches import Polygon as pp\n",
    "from shapely.geometry import Polygon\n",
    "from matplotlib.font_manager import FontProperties\n",
    "def plot_solution(solution: SolutionJobshop, problem: JobShopProblem):\n",
    "    fig, ax = plt.subplots(1)\n",
    "    patches = []\n",
    "    for machine in problem.job_per_machines:\n",
    "        for task in problem.job_per_machines[machine]:\n",
    "            time_start, time_end = solution.schedule[task[0]][task[1]]\n",
    "            polygon = Polygon(\n",
    "                        [\n",
    "                            (time_start, machine-0.2),\n",
    "                            (time_end, machine-0.2),\n",
    "                            (time_end, machine+0.2),\n",
    "                            (time_start, machine+0.2),\n",
    "                            (time_start, machine-0.2),\n",
    "                        ]\n",
    "                    )\n",
    "            ax.annotate(str(task),\n",
    "                xy=((3*time_start+time_end)/4, machine),\n",
    "                font_properties=FontProperties(size=7, weight=\"bold\"),\n",
    "                verticalalignment=\"center\",\n",
    "                horizontalalignment=\"left\",\n",
    "                color=\"k\",\n",
    "                clip_on=True,\n",
    "            )\n",
    "            x, y = polygon.exterior.xy\n",
    "            ax.plot(x, y, zorder=-1, color=\"b\")\n",
    "            patches.append(pp(xy=polygon.exterior.coords))\n",
    "    p = PatchCollection(patches, cmap=matplotlib.colormaps.get_cmap(\"Blues\"), alpha=0.4)\n",
    "    ax.add_collection(p)\n",
    "    ax.set_yticks(range(problem.n_machines))\n",
    "    ax.set_yticklabels(\n",
    "        tuple([f\"machine {j}\" for j in range(problem.n_machines)]), fontdict={\"size\": 5}\n",
    "    )\n",
    "    return fig, ax"
   ]
  },
  {
   "cell_type": "markdown",
   "id": "fb2ea939",
   "metadata": {},
   "source": [
    "### Manual solution computation\n",
    "<div class=\"alert alert-warning\">\n",
    "<b>Manual solution</b><br />\n",
    "\n",
    "Here you are asked to build yourself a solution, that pass the check solution and that you can plot.\n",
    "</div>"
   ]
  },
  {
   "cell_type": "code",
   "execution_count": null,
   "id": "73501727",
   "metadata": {},
   "outputs": [],
   "source": [
    "handcrafted_solution = SolutionJobshop([[[?, ?], [?, ?], [?, ?]], \n",
    "                                        [[?, ?], [?, ?], [?, ?]], \n",
    "                                        [[?, ?], [?, ?]]])\n",
    "check = check_solution(solution=handcrafted_solution, problem=example_jobshop)\n",
    "plot_solution(handcrafted_solution, example_jobshop)\n",
    "print(\"Solution respect the jobshop constraints : \", check)"
   ]
  },
  {
   "cell_type": "code",
   "execution_count": null,
   "id": "56d01065",
   "metadata": {},
   "outputs": [],
   "source": [
    "# %load correction/nb2_jobshophandcrafted.py"
   ]
  },
  {
   "cell_type": "markdown",
   "id": "82221f1d",
   "metadata": {},
   "source": [
    "### CP Modelling\n",
    "Constraint programming powerness can help our scheduling tasks by providing good quality schedules fastly. In this section you will code the CP model of jobshop problem"
   ]
  },
  {
   "cell_type": "markdown",
   "id": "7bfb0ace",
   "metadata": {},
   "source": [
    "<div class=\"alert alert-warning\">\n",
    "<b>CP solver implementation</b><br />\n",
    "\n",
    "Job shop problem\n",
    "</div>"
   ]
  },
  {
   "cell_type": "code",
   "execution_count": null,
   "id": "62e5ad51",
   "metadata": {},
   "outputs": [],
   "source": [
    "class SolverJobShop:\n",
    "    def __init__(self, jobshop_problem: JobShopProblem):\n",
    "        self.jobshop_problem = jobshop_problem\n",
    "        self.model = cp_model.CpModel()\n",
    "        self.variables = {}\n",
    "    \n",
    "    def init_model(max_time: int):\n",
    "        # Write variables, constraints\n",
    "        pass\n",
    "        \n",
    "    def solve() -> SolutionJobshop:\n",
    "        self.init_model()\n",
    "        solver = cp_model.CpSolver()\n",
    "        solver.parameters.max_time_in_seconds = 10\n",
    "        status = solver.Solve(self.model)\n",
    "        status_human = solver.StatusName(status)\n",
    "        print(status_human)\n",
    "        # Code the reconstruction of the\n",
    "        return\n",
    "        "
   ]
  },
  {
   "cell_type": "code",
   "execution_count": null,
   "id": "4173cf71",
   "metadata": {},
   "outputs": [],
   "source": [
    "# %load correction/nb2_cpmodel_cell.py"
   ]
  },
  {
   "cell_type": "markdown",
   "id": "b0fbb97a",
   "metadata": {},
   "source": [
    "### Test the solver on benchmark\n"
   ]
  },
  {
   "cell_type": "code",
   "execution_count": null,
   "id": "5826046b",
   "metadata": {},
   "outputs": [],
   "source": [
    "from jsplib_parser import create_jsplib_instance, JSPLIBInstance #, instance_names, instance_opti\n",
    "\n",
    "model = create_jsplib_instance(\"abz5\")\n",
    "pb = model.jsplib_to_jobshop()\n",
    "pb = JobShopProblem(list_jobs=[[Subjob(**x) for x in y] for y in pb])\n",
    "print(pb.n_jobs)\n",
    "print(pb.n_machines)\n",
    "print(pb.list_jobs[0][0])\n",
    "solver = SolverJobShop(jobshop_problem=pb)\n",
    "solution = solver.solve(max_time=10000)\n",
    "check_solution(solution, pb)\n",
    "plot_solution(solution, pb)"
   ]
  },
  {
   "cell_type": "code",
   "execution_count": null,
   "id": "6d680b0f",
   "metadata": {},
   "outputs": [],
   "source": []
  }
 ],
 "metadata": {
  "kernelspec": {
   "display_name": "aibt2023",
   "language": "python",
   "name": "aibt2023"
  },
  "language_info": {
   "codemirror_mode": {
    "name": "ipython",
    "version": 3
   },
   "file_extension": ".py",
   "mimetype": "text/x-python",
   "name": "python",
   "nbconvert_exporter": "python",
   "pygments_lexer": "ipython3",
   "version": "3.8.16"
  }
 },
 "nbformat": 4,
 "nbformat_minor": 5
}
