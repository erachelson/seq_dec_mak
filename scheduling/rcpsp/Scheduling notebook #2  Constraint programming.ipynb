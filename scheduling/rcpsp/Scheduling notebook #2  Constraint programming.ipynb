{
 "cells": [
  {
   "cell_type": "markdown",
   "id": "c7cf2032",
   "metadata": {},
   "source": [
    "# Modelling scheduling problem as constraint programming "
   ]
  },
  {
   "cell_type": "code",
   "execution_count": 51,
   "id": "a9dba509",
   "metadata": {},
   "outputs": [
    {
     "name": "stdout",
     "output_type": "stream",
     "text": [
      "Requirement already satisfied: iminizinc in /Users/poveda_g/opt/miniconda3/envs/isae_course/lib/python3.7/site-packages (0.4)\n",
      "Requirement already satisfied: ipython in /Users/poveda_g/opt/miniconda3/envs/isae_course/lib/python3.7/site-packages (from iminizinc) (7.32.0)\n",
      "Requirement already satisfied: backcall in /Users/poveda_g/opt/miniconda3/envs/isae_course/lib/python3.7/site-packages (from ipython->iminizinc) (0.2.0)\n",
      "Requirement already satisfied: setuptools>=18.5 in /Users/poveda_g/opt/miniconda3/envs/isae_course/lib/python3.7/site-packages (from ipython->iminizinc) (58.0.4)\n",
      "Requirement already satisfied: pygments in /Users/poveda_g/opt/miniconda3/envs/isae_course/lib/python3.7/site-packages (from ipython->iminizinc) (2.11.2)\n",
      "Requirement already satisfied: pexpect>4.3 in /Users/poveda_g/opt/miniconda3/envs/isae_course/lib/python3.7/site-packages (from ipython->iminizinc) (4.8.0)\n",
      "Requirement already satisfied: pickleshare in /Users/poveda_g/opt/miniconda3/envs/isae_course/lib/python3.7/site-packages (from ipython->iminizinc) (0.7.5)\n",
      "Requirement already satisfied: appnope in /Users/poveda_g/opt/miniconda3/envs/isae_course/lib/python3.7/site-packages (from ipython->iminizinc) (0.1.3)\n",
      "Requirement already satisfied: decorator in /Users/poveda_g/opt/miniconda3/envs/isae_course/lib/python3.7/site-packages (from ipython->iminizinc) (5.1.1)\n",
      "Requirement already satisfied: traitlets>=4.2 in /Users/poveda_g/opt/miniconda3/envs/isae_course/lib/python3.7/site-packages (from ipython->iminizinc) (5.1.1)\n",
      "Requirement already satisfied: jedi>=0.16 in /Users/poveda_g/opt/miniconda3/envs/isae_course/lib/python3.7/site-packages (from ipython->iminizinc) (0.18.1)\n",
      "Requirement already satisfied: prompt-toolkit!=3.0.0,!=3.0.1,<3.1.0,>=2.0.0 in /Users/poveda_g/opt/miniconda3/envs/isae_course/lib/python3.7/site-packages (from ipython->iminizinc) (3.0.28)\n",
      "Requirement already satisfied: matplotlib-inline in /Users/poveda_g/opt/miniconda3/envs/isae_course/lib/python3.7/site-packages (from ipython->iminizinc) (0.1.3)\n",
      "Requirement already satisfied: parso<0.9.0,>=0.8.0 in /Users/poveda_g/opt/miniconda3/envs/isae_course/lib/python3.7/site-packages (from jedi>=0.16->ipython->iminizinc) (0.8.3)\n",
      "Requirement already satisfied: ptyprocess>=0.5 in /Users/poveda_g/opt/miniconda3/envs/isae_course/lib/python3.7/site-packages (from pexpect>4.3->ipython->iminizinc) (0.7.0)\n",
      "Requirement already satisfied: wcwidth in /Users/poveda_g/opt/miniconda3/envs/isae_course/lib/python3.7/site-packages (from prompt-toolkit!=3.0.0,!=3.0.1,<3.1.0,>=2.0.0->ipython->iminizinc) (0.2.5)\n"
     ]
    }
   ],
   "source": [
    "!pip install iminizinc"
   ]
  },
  {
   "cell_type": "code",
   "execution_count": 52,
   "id": "80fc0789",
   "metadata": {},
   "outputs": [
    {
     "name": "stdout",
     "output_type": "stream",
     "text": [
      "The iminizinc extension is already loaded. To reload it, use:\n",
      "  %reload_ext iminizinc\n"
     ]
    }
   ],
   "source": [
    "import sys, os\n",
    "this_folder = os.getcwd()\n",
    "sys.path.append(os.path.join(this_folder, \"discrete_optimisation/\"))\n",
    "import skdecide.hub\n",
    "%load_ext iminizinc"
   ]
  },
  {
   "cell_type": "code",
   "execution_count": 53,
   "id": "3cd90f56",
   "metadata": {},
   "outputs": [],
   "source": [
    "from discrete_optimization.rcpsp.rcpsp_model import RCPSPModel, RCPSPSolution\n",
    "from discrete_optimization.rcpsp.rcpsp_parser import files_available, parse_file"
   ]
  },
  {
   "cell_type": "code",
   "execution_count": 54,
   "id": "afd8fd7b",
   "metadata": {},
   "outputs": [
    {
     "name": "stdout",
     "output_type": "stream",
     "text": [
      "I'm a RCPSP model with 32 tasks.. and ressources =['R1', 'R2', 'R3', 'R4']\n"
     ]
    }
   ],
   "source": [
    "file = [f for f in files_available if \"j301_10.sm\" in f][0]\n",
    "model = parse_file(file)\n",
    "print(model)"
   ]
  },
  {
   "cell_type": "code",
   "execution_count": 55,
   "id": "089ba70c",
   "metadata": {},
   "outputs": [],
   "source": [
    "# Data definition for minizinc...\n",
    "index_in_minizinc = {model.tasks_list[i]: i+1 for i in range(model.n_jobs)}\n",
    "max_time = model.horizon\n",
    "n_res = len(model.resources_list)\n",
    "rc = [model.get_max_resource_capacity(r) for r in model.resources_list]\n",
    "n_tasks = model.n_jobs\n",
    "d = [model.mode_details[t][1][\"duration\"] for t in model.tasks_list]\n",
    "rr = [[model.mode_details[t][1][r] for t in model.tasks_list] for r in model.resources_list]\n",
    "adj = [[False for t in model.tasks_list] for t in model.tasks_list]\n",
    "for t in model.tasks_list:\n",
    "    for s in model.successors[t]:\n",
    "        adj[index_in_minizinc[t]-1][index_in_minizinc[s]-1] = True\n"
   ]
  },
  {
   "cell_type": "code",
   "execution_count": 56,
   "id": "9235ba24",
   "metadata": {},
   "outputs": [
    {
     "name": "stdout",
     "output_type": "stream",
     "text": [
      "MiniZinc to FlatZinc converter, version 2.5.5\n",
      "Copyright (C) 2014-2021 Monash University, NICTA, Data61\n",
      "Parsing file(s) /var/folders/gj/k8__b59x78b9g9p2603_bww00000gn/T/tmp6zx_xu5t/model.mzn', '/var/folders/gj/k8__b59x78b9g9p2603_bww00000gn/T/tmp6zx_xu5t/data.json' ...\n",
      "processing file '/Users/poveda_g/opt/miniconda3/envs/isae_course/lib/python3.7/site-packages/skdecide/hub/share/minizinc/std/stdlib.mzn'\n",
      "processing file '/Users/poveda_g/opt/miniconda3/envs/isae_course/lib/python3.7/site-packages/skdecide/hub/share/minizinc/std/stdlib/stdlib_internal.mzn'\n",
      "processing file '/Users/poveda_g/opt/miniconda3/envs/isae_course/lib/python3.7/site-packages/skdecide/hub/share/minizinc/std/stdlib/stdlib_random.mzn'\n",
      "processing file '/Users/poveda_g/opt/miniconda3/envs/isae_course/lib/python3.7/site-packages/skdecide/hub/share/minizinc/std/stdlib/stdlib_enum.mzn'\n",
      "processing file '/Users/poveda_g/opt/miniconda3/envs/isae_course/lib/python3.7/site-packages/skdecide/hub/share/minizinc/std/stdlib/stdlib_debug.mzn'\n",
      "processing file '/Users/poveda_g/opt/miniconda3/envs/isae_course/lib/python3.7/site-packages/skdecide/hub/share/minizinc/std/stdlib/stdlib_reflect.mzn'\n",
      "processing file '/Users/poveda_g/opt/miniconda3/envs/isae_course/lib/python3.7/site-packages/skdecide/hub/share/minizinc/std/stdlib/stdlib_string.mzn'\n",
      "processing file '/Users/poveda_g/opt/miniconda3/envs/isae_course/lib/python3.7/site-packages/skdecide/hub/share/minizinc/std/stdlib/stdlib_coercion.mzn'\n",
      "processing file '/Users/poveda_g/opt/miniconda3/envs/isae_course/lib/python3.7/site-packages/skdecide/hub/share/minizinc/std/stdlib/stdlib_sort.mzn'\n",
      "processing file '/Users/poveda_g/opt/miniconda3/envs/isae_course/lib/python3.7/site-packages/skdecide/hub/share/minizinc/std/stdlib/stdlib_array.mzn'\n",
      "processing file '/Users/poveda_g/opt/miniconda3/envs/isae_course/lib/python3.7/site-packages/skdecide/hub/share/minizinc/std/stdlib/stdlib_ite.mzn'\n",
      "processing file '/Users/poveda_g/opt/miniconda3/envs/isae_course/lib/python3.7/site-packages/skdecide/hub/share/minizinc/std/stdlib/stdlib_set.mzn'\n",
      "processing file '/Users/poveda_g/opt/miniconda3/envs/isae_course/lib/python3.7/site-packages/skdecide/hub/share/minizinc/std/stdlib/stdlib_logic.mzn'\n",
      "processing file '/Users/poveda_g/opt/miniconda3/envs/isae_course/lib/python3.7/site-packages/skdecide/hub/share/minizinc/std/stdlib/stdlib_math.mzn'\n",
      "processing file '/Users/poveda_g/opt/miniconda3/envs/isae_course/lib/python3.7/site-packages/skdecide/hub/share/minizinc/std/stdlib/stdlib_compare.mzn'\n",
      "processing file '/Users/poveda_g/opt/miniconda3/envs/isae_course/lib/python3.7/site-packages/skdecide/hub/share/minizinc/std/stdlib/stdlib_opt.mzn'\n",
      "processing file '/Users/poveda_g/opt/miniconda3/envs/isae_course/lib/python3.7/site-packages/skdecide/hub/share/minizinc/std/stdlib/stdlib_ann.mzn'\n",
      "processing file '/Users/poveda_g/opt/miniconda3/envs/isae_course/lib/python3.7/site-packages/skdecide/hub/share/minizinc/std/stdlib/stdlib_language.mzn'\n",
      "processing file '/Users/poveda_g/opt/miniconda3/envs/isae_course/lib/python3.7/site-packages/skdecide/hub/share/minizinc/std/flatzinc_builtins.mzn'\n",
      "processing file '/Users/poveda_g/opt/miniconda3/envs/isae_course/lib/python3.7/site-packages/skdecide/hub/share/minizinc/std/solver_redefinitions.mzn'\n",
      "processing file '/Users/poveda_g/opt/miniconda3/envs/isae_course/lib/python3.7/site-packages/skdecide/hub/share/minizinc/std/fzn_if_then_else_partiality.mzn'\n",
      "processing file '/Users/poveda_g/opt/miniconda3/envs/isae_course/lib/python3.7/site-packages/skdecide/hub/share/minizinc/std/fzn_if_then_else_var_set.mzn'\n",
      "processing file '/Users/poveda_g/opt/miniconda3/envs/isae_course/lib/python3.7/site-packages/skdecide/hub/share/minizinc/std/fzn_if_then_else_set.mzn'\n",
      "processing file '/Users/poveda_g/opt/miniconda3/envs/isae_course/lib/python3.7/site-packages/skdecide/hub/share/minizinc/std/fzn_if_then_else_var_opt_float.mzn'\n",
      "processing file '/Users/poveda_g/opt/miniconda3/envs/isae_course/lib/python3.7/site-packages/skdecide/hub/share/minizinc/std/fzn_if_then_else_var_float.mzn'\n",
      "processing file '/Users/poveda_g/opt/miniconda3/envs/isae_course/lib/python3.7/site-packages/skdecide/hub/share/minizinc/std/fzn_if_then_else_opt_float.mzn'\n",
      "processing file '/Users/poveda_g/opt/miniconda3/envs/isae_course/lib/python3.7/site-packages/skdecide/hub/share/minizinc/std/fzn_if_then_else_float.mzn'\n",
      "processing file '/Users/poveda_g/opt/miniconda3/envs/isae_course/lib/python3.7/site-packages/skdecide/hub/share/minizinc/std/fzn_if_then_else_var_opt_bool.mzn'\n",
      "processing file '/Users/poveda_g/opt/miniconda3/envs/isae_course/lib/python3.7/site-packages/skdecide/hub/share/minizinc/std/fzn_if_then_else_var_bool.mzn'\n",
      "processing file '/Users/poveda_g/opt/miniconda3/envs/isae_course/lib/python3.7/site-packages/skdecide/hub/share/minizinc/std/fzn_if_then_else_opt_bool.mzn'\n",
      "processing file '/Users/poveda_g/opt/miniconda3/envs/isae_course/lib/python3.7/site-packages/skdecide/hub/share/minizinc/std/fzn_if_then_else_bool.mzn'\n",
      "processing file '/Users/poveda_g/opt/miniconda3/envs/isae_course/lib/python3.7/site-packages/skdecide/hub/share/minizinc/std/fzn_if_then_else_var_opt_int.mzn'\n",
      "processing file '/Users/poveda_g/opt/miniconda3/envs/isae_course/lib/python3.7/site-packages/skdecide/hub/share/minizinc/std/fzn_if_then_else_var_int.mzn'\n",
      "processing file '/Users/poveda_g/opt/miniconda3/envs/isae_course/lib/python3.7/site-packages/skdecide/hub/share/minizinc/std/fzn_if_then_else_opt_int.mzn'\n",
      "processing file '/Users/poveda_g/opt/miniconda3/envs/isae_course/lib/python3.7/site-packages/skdecide/hub/share/minizinc/std/fzn_if_then_else_int.mzn'\n",
      "processing file '/Users/poveda_g/opt/miniconda3/envs/isae_course/lib/python3.7/site-packages/skdecide/hub/share/minizinc/std/count_fn.mzn'\n",
      "processing file '/Users/poveda_g/opt/miniconda3/envs/isae_course/lib/python3.7/site-packages/skdecide/hub/share/gecode/mznlib/count.mzn'\n",
      "processing file '/Users/poveda_g/opt/miniconda3/envs/isae_course/lib/python3.7/site-packages/skdecide/hub/share/minizinc/std/count_lt.mzn'\n",
      "processing file '/Users/poveda_g/opt/miniconda3/envs/isae_course/lib/python3.7/site-packages/skdecide/hub/share/minizinc/std/fzn_count_lt_par_reif.mzn'\n",
      "processing file '/Users/poveda_g/opt/miniconda3/envs/isae_course/lib/python3.7/site-packages/skdecide/hub/share/minizinc/std/fzn_count_lt_reif.mzn'\n",
      "processing file '/Users/poveda_g/opt/miniconda3/envs/isae_course/lib/python3.7/site-packages/skdecide/hub/share/minizinc/std/fzn_count_lt_par.mzn'\n",
      "processing file '/Users/poveda_g/opt/miniconda3/envs/isae_course/lib/python3.7/site-packages/skdecide/hub/share/minizinc/std/fzn_count_lt.mzn'\n",
      "processing file '/Users/poveda_g/opt/miniconda3/envs/isae_course/lib/python3.7/site-packages/skdecide/hub/share/minizinc/std/count_gt.mzn'\n",
      "processing file '/Users/poveda_g/opt/miniconda3/envs/isae_course/lib/python3.7/site-packages/skdecide/hub/share/minizinc/std/fzn_count_gt_reif.mzn'\n",
      "processing file '/Users/poveda_g/opt/miniconda3/envs/isae_course/lib/python3.7/site-packages/skdecide/hub/share/minizinc/std/fzn_count_gt_par_reif.mzn'\n",
      "processing file '/Users/poveda_g/opt/miniconda3/envs/isae_course/lib/python3.7/site-packages/skdecide/hub/share/minizinc/std/fzn_count_gt.mzn'\n",
      "processing file '/Users/poveda_g/opt/miniconda3/envs/isae_course/lib/python3.7/site-packages/skdecide/hub/share/minizinc/std/fzn_count_gt_par.mzn'\n",
      "processing file '/Users/poveda_g/opt/miniconda3/envs/isae_course/lib/python3.7/site-packages/skdecide/hub/share/minizinc/std/count_neq.mzn'\n",
      "processing file '/Users/poveda_g/opt/miniconda3/envs/isae_course/lib/python3.7/site-packages/skdecide/hub/share/minizinc/std/fzn_count_neq_reif.mzn'\n",
      "processing file '/Users/poveda_g/opt/miniconda3/envs/isae_course/lib/python3.7/site-packages/skdecide/hub/share/minizinc/std/fzn_count_neq_par_reif.mzn'\n",
      "processing file '/Users/poveda_g/opt/miniconda3/envs/isae_course/lib/python3.7/site-packages/skdecide/hub/share/minizinc/std/fzn_count_neq.mzn'\n",
      "processing file '/Users/poveda_g/opt/miniconda3/envs/isae_course/lib/python3.7/site-packages/skdecide/hub/share/minizinc/std/fzn_count_neq_par.mzn'\n",
      "processing file '/Users/poveda_g/opt/miniconda3/envs/isae_course/lib/python3.7/site-packages/skdecide/hub/share/minizinc/std/count_leq.mzn'\n",
      "processing file '/Users/poveda_g/opt/miniconda3/envs/isae_course/lib/python3.7/site-packages/skdecide/hub/share/minizinc/std/fzn_count_leq_reif.mzn'\n",
      "processing file '/Users/poveda_g/opt/miniconda3/envs/isae_course/lib/python3.7/site-packages/skdecide/hub/share/minizinc/std/fzn_count_leq_par_reif.mzn'\n",
      "processing file '/Users/poveda_g/opt/miniconda3/envs/isae_course/lib/python3.7/site-packages/skdecide/hub/share/minizinc/std/fzn_count_leq.mzn'\n",
      "processing file '/Users/poveda_g/opt/miniconda3/envs/isae_course/lib/python3.7/site-packages/skdecide/hub/share/minizinc/std/fzn_count_leq_par.mzn'\n",
      "processing file '/Users/poveda_g/opt/miniconda3/envs/isae_course/lib/python3.7/site-packages/skdecide/hub/share/minizinc/std/count_geq.mzn'\n",
      "processing file '/Users/poveda_g/opt/miniconda3/envs/isae_course/lib/python3.7/site-packages/skdecide/hub/share/minizinc/std/fzn_count_geq_reif.mzn'\n",
      "processing file '/Users/poveda_g/opt/miniconda3/envs/isae_course/lib/python3.7/site-packages/skdecide/hub/share/minizinc/std/fzn_count_geq_par_reif.mzn'\n",
      "processing file '/Users/poveda_g/opt/miniconda3/envs/isae_course/lib/python3.7/site-packages/skdecide/hub/share/minizinc/std/fzn_count_geq.mzn'\n",
      "processing file '/Users/poveda_g/opt/miniconda3/envs/isae_course/lib/python3.7/site-packages/skdecide/hub/share/minizinc/std/fzn_count_geq_par.mzn'\n",
      "processing file '/Users/poveda_g/opt/miniconda3/envs/isae_course/lib/python3.7/site-packages/skdecide/hub/share/minizinc/std/count_eq.mzn'\n",
      "processing file '/Users/poveda_g/opt/miniconda3/envs/isae_course/lib/python3.7/site-packages/skdecide/hub/share/minizinc/std/fzn_count_eq_par_reif.mzn'\n",
      "processing file '/Users/poveda_g/opt/miniconda3/envs/isae_course/lib/python3.7/site-packages/skdecide/hub/share/minizinc/std/fzn_count_eq_reif.mzn'\n",
      "processing file '/Users/poveda_g/opt/miniconda3/envs/isae_course/lib/python3.7/site-packages/skdecide/hub/share/minizinc/std/fzn_count_eq_par.mzn'\n",
      "processing file '/Users/poveda_g/opt/miniconda3/envs/isae_course/lib/python3.7/site-packages/skdecide/hub/share/minizinc/std/fzn_count_eq.mzn'\n",
      "processing file '/Users/poveda_g/opt/miniconda3/envs/isae_course/lib/python3.7/site-packages/skdecide/hub/share/minizinc/std/redefinitions-2.5.2.mzn'\n",
      "processing file '/Users/poveda_g/opt/miniconda3/envs/isae_course/lib/python3.7/site-packages/skdecide/hub/share/minizinc/std/redefinitions-2.3.3.mzn'\n",
      "processing file '/Users/poveda_g/opt/miniconda3/envs/isae_course/lib/python3.7/site-packages/skdecide/hub/share/minizinc/std/redefinitions-2.2.1.mzn'\n",
      "processing file '/Users/poveda_g/opt/miniconda3/envs/isae_course/lib/python3.7/site-packages/skdecide/hub/share/minizinc/std/redefinitions-2.1.1.mzn'\n",
      "processing file '/Users/poveda_g/opt/miniconda3/envs/isae_course/lib/python3.7/site-packages/skdecide/hub/share/minizinc/std/redefinitions-2.1.mzn'\n",
      "processing file '/Users/poveda_g/opt/miniconda3/envs/isae_course/lib/python3.7/site-packages/skdecide/hub/share/minizinc/std/redefinitions-2.0.2.mzn'\n",
      "processing file '/Users/poveda_g/opt/miniconda3/envs/isae_course/lib/python3.7/site-packages/skdecide/hub/share/gecode/mznlib/redefinitions-2.0.mzn'\n",
      "processing file '/Users/poveda_g/opt/miniconda3/envs/isae_course/lib/python3.7/site-packages/skdecide/hub/share/gecode/mznlib/redefinitions.mzn'\n",
      "processing file '/var/folders/gj/k8__b59x78b9g9p2603_bww00000gn/T/tmp6zx_xu5t/model.mzn'\n",
      " done parsing (0.08 s)\n",
      "Flattening ...\n",
      "\tCompilePass: Flatten with '/Users/poveda_g/opt/miniconda3/envs/isae_course/lib/python3.7/site-packages/skdecide/hub/share/minizinc//' library ...\n",
      "MIP domains ... done (0.03 s)\n",
      "Optimizing ... done (0.03 s)\n",
      "Converting to old FlatZinc ... done (0.03 s)\n",
      " done (0.03 s)\n",
      " done (0.11 s), max stack depth 8\n",
      "Maximum memory 3 Mbytes.\n",
      "      % SOLVING PHASE\n",
      "FZN solver plugin, compiled  Oct  4 2021  16:25:10\n",
      "Using FZN solver /Users/poveda_g/opt/miniconda3/envs/isae_course/lib/python3.7/site-packages/skdecide/hub/bin/fzn-gecode for solving, parameters: \n",
      "   Done (overall time 0.13 s).\n",
      "s=[0, 0, 0, 0, 0, 0, 0, 0, 0, 0, 0, 0, 0, 0, 0, 0, 0, 0, 0, 0, 0, 0, 0, 0, 0, 0, 0, 0, 0, 0, 0, 0]\n",
      "makespan=0\n"
     ]
    }
   ],
   "source": [
    "%%minizinc -m bind --v\n",
    "int: max_time;\n",
    "set of int: TIMES=0..max_time;\n",
    "int: n_res;                     % The number of resources\n",
    "set of int: Res = 1..n_res;     % The set of all resources\n",
    "array [Res] of int: rc;         % The resource capabilities\n",
    "\n",
    "% Tasks\n",
    "%\n",
    "int: n_tasks;                           % The number of tasks\n",
    "set of int: Tasks = 1..n_tasks;         % The set of all tasks\n",
    "array [Tasks] of int: d;                % The task durations\n",
    "array [Res, Tasks] of int: rr ;         % The resource requirements\n",
    "array [Tasks, Tasks] of bool: adj;      % Adjacency matrix\n",
    "array [Tasks] of set of Tasks: suc = [{p|p in Tasks where adj[j,p]}|j in Tasks];\n",
    "\n",
    "% Variable \n",
    "array [Tasks] of var TIMES: s;  % The start times\n",
    "var TIMES: makespan      ;  % The project duration (makespan)\n",
    "\n",
    "% WRITE YOUR CONSTRAINTS :) !!!\n",
    "output [\"\\(successors)\"];\n",
    "solve satisfy;"
   ]
  },
  {
   "cell_type": "code",
   "execution_count": 57,
   "id": "1b68ead9",
   "metadata": {},
   "outputs": [
    {
     "name": "stdout",
     "output_type": "stream",
     "text": [
      "[0, 0, 0, 0, 0, 0, 0, 0, 0, 0, 0, 0, 0, 0, 0, 0, 0, 0, 0, 0, 0, 0, 0, 0, 0, 0, 0, 0, 0, 0, 0, 0]\n"
     ]
    }
   ],
   "source": [
    "print(s)"
   ]
  },
  {
   "cell_type": "markdown",
   "id": "a1cc3060",
   "metadata": {},
   "source": [
    "## Correction (to hide)"
   ]
  },
  {
   "cell_type": "code",
   "execution_count": 58,
   "id": "70ddc9b6",
   "metadata": {},
   "outputs": [
    {
     "name": "stdout",
     "output_type": "stream",
     "text": [
      "MiniZinc to FlatZinc converter, version 2.5.5\n",
      "Copyright (C) 2014-2021 Monash University, NICTA, Data61\n",
      "Parsing file(s) /var/folders/gj/k8__b59x78b9g9p2603_bww00000gn/T/tmp_6qk940f/model.mzn' ...\n",
      "processing file '/Users/poveda_g/opt/miniconda3/envs/isae_course/lib/python3.7/site-packages/skdecide/hub/share/minizinc/std/stdlib.mzn'\n",
      "processing file '/Users/poveda_g/opt/miniconda3/envs/isae_course/lib/python3.7/site-packages/skdecide/hub/share/minizinc/std/stdlib/stdlib_internal.mzn'\n",
      "processing file '/Users/poveda_g/opt/miniconda3/envs/isae_course/lib/python3.7/site-packages/skdecide/hub/share/minizinc/std/stdlib/stdlib_random.mzn'\n",
      "processing file '/Users/poveda_g/opt/miniconda3/envs/isae_course/lib/python3.7/site-packages/skdecide/hub/share/minizinc/std/stdlib/stdlib_enum.mzn'\n",
      "processing file '/Users/poveda_g/opt/miniconda3/envs/isae_course/lib/python3.7/site-packages/skdecide/hub/share/minizinc/std/stdlib/stdlib_debug.mzn'\n",
      "processing file '/Users/poveda_g/opt/miniconda3/envs/isae_course/lib/python3.7/site-packages/skdecide/hub/share/minizinc/std/stdlib/stdlib_reflect.mzn'\n",
      "processing file '/Users/poveda_g/opt/miniconda3/envs/isae_course/lib/python3.7/site-packages/skdecide/hub/share/minizinc/std/stdlib/stdlib_string.mzn'\n",
      "processing file '/Users/poveda_g/opt/miniconda3/envs/isae_course/lib/python3.7/site-packages/skdecide/hub/share/minizinc/std/stdlib/stdlib_coercion.mzn'\n",
      "processing file '/Users/poveda_g/opt/miniconda3/envs/isae_course/lib/python3.7/site-packages/skdecide/hub/share/minizinc/std/stdlib/stdlib_sort.mzn'\n",
      "processing file '/Users/poveda_g/opt/miniconda3/envs/isae_course/lib/python3.7/site-packages/skdecide/hub/share/minizinc/std/stdlib/stdlib_array.mzn'\n",
      "processing file '/Users/poveda_g/opt/miniconda3/envs/isae_course/lib/python3.7/site-packages/skdecide/hub/share/minizinc/std/stdlib/stdlib_ite.mzn'\n",
      "processing file '/Users/poveda_g/opt/miniconda3/envs/isae_course/lib/python3.7/site-packages/skdecide/hub/share/minizinc/std/stdlib/stdlib_set.mzn'\n",
      "processing file '/Users/poveda_g/opt/miniconda3/envs/isae_course/lib/python3.7/site-packages/skdecide/hub/share/minizinc/std/stdlib/stdlib_logic.mzn'\n",
      "processing file '/Users/poveda_g/opt/miniconda3/envs/isae_course/lib/python3.7/site-packages/skdecide/hub/share/minizinc/std/stdlib/stdlib_math.mzn'\n",
      "processing file '/Users/poveda_g/opt/miniconda3/envs/isae_course/lib/python3.7/site-packages/skdecide/hub/share/minizinc/std/stdlib/stdlib_compare.mzn'\n",
      "processing file '/Users/poveda_g/opt/miniconda3/envs/isae_course/lib/python3.7/site-packages/skdecide/hub/share/minizinc/std/stdlib/stdlib_opt.mzn'\n",
      "processing file '/Users/poveda_g/opt/miniconda3/envs/isae_course/lib/python3.7/site-packages/skdecide/hub/share/minizinc/std/stdlib/stdlib_ann.mzn'\n",
      "processing file '/Users/poveda_g/opt/miniconda3/envs/isae_course/lib/python3.7/site-packages/skdecide/hub/share/minizinc/std/stdlib/stdlib_language.mzn'\n",
      "processing file '/Users/poveda_g/opt/miniconda3/envs/isae_course/lib/python3.7/site-packages/skdecide/hub/share/minizinc/std/flatzinc_builtins.mzn'\n",
      "processing file '/Users/poveda_g/opt/miniconda3/envs/isae_course/lib/python3.7/site-packages/skdecide/hub/share/minizinc/std/solver_redefinitions.mzn'\n",
      "processing file '/Users/poveda_g/opt/miniconda3/envs/isae_course/lib/python3.7/site-packages/skdecide/hub/share/minizinc/std/fzn_if_then_else_partiality.mzn'\n",
      "processing file '/Users/poveda_g/opt/miniconda3/envs/isae_course/lib/python3.7/site-packages/skdecide/hub/share/minizinc/std/fzn_if_then_else_var_set.mzn'\n",
      "processing file '/Users/poveda_g/opt/miniconda3/envs/isae_course/lib/python3.7/site-packages/skdecide/hub/share/minizinc/std/fzn_if_then_else_set.mzn'\n",
      "processing file '/Users/poveda_g/opt/miniconda3/envs/isae_course/lib/python3.7/site-packages/skdecide/hub/share/minizinc/std/fzn_if_then_else_var_opt_float.mzn'\n",
      "processing file '/Users/poveda_g/opt/miniconda3/envs/isae_course/lib/python3.7/site-packages/skdecide/hub/share/minizinc/std/fzn_if_then_else_var_float.mzn'\n",
      "processing file '/Users/poveda_g/opt/miniconda3/envs/isae_course/lib/python3.7/site-packages/skdecide/hub/share/minizinc/std/fzn_if_then_else_opt_float.mzn'\n",
      "processing file '/Users/poveda_g/opt/miniconda3/envs/isae_course/lib/python3.7/site-packages/skdecide/hub/share/minizinc/std/fzn_if_then_else_float.mzn'\n",
      "processing file '/Users/poveda_g/opt/miniconda3/envs/isae_course/lib/python3.7/site-packages/skdecide/hub/share/minizinc/std/fzn_if_then_else_var_opt_bool.mzn'\n",
      "processing file '/Users/poveda_g/opt/miniconda3/envs/isae_course/lib/python3.7/site-packages/skdecide/hub/share/minizinc/std/fzn_if_then_else_var_bool.mzn'\n",
      "processing file '/Users/poveda_g/opt/miniconda3/envs/isae_course/lib/python3.7/site-packages/skdecide/hub/share/minizinc/std/fzn_if_then_else_opt_bool.mzn'\n",
      "processing file '/Users/poveda_g/opt/miniconda3/envs/isae_course/lib/python3.7/site-packages/skdecide/hub/share/minizinc/std/fzn_if_then_else_bool.mzn'\n",
      "processing file '/Users/poveda_g/opt/miniconda3/envs/isae_course/lib/python3.7/site-packages/skdecide/hub/share/minizinc/std/fzn_if_then_else_var_opt_int.mzn'\n",
      "processing file '/Users/poveda_g/opt/miniconda3/envs/isae_course/lib/python3.7/site-packages/skdecide/hub/share/minizinc/std/fzn_if_then_else_var_int.mzn'\n",
      "processing file '/Users/poveda_g/opt/miniconda3/envs/isae_course/lib/python3.7/site-packages/skdecide/hub/share/minizinc/std/fzn_if_then_else_opt_int.mzn'\n",
      "processing file '/Users/poveda_g/opt/miniconda3/envs/isae_course/lib/python3.7/site-packages/skdecide/hub/share/minizinc/std/fzn_if_then_else_int.mzn'\n",
      "processing file '/Users/poveda_g/opt/miniconda3/envs/isae_course/lib/python3.7/site-packages/skdecide/hub/share/minizinc/std/count_fn.mzn'\n",
      "processing file '/Users/poveda_g/opt/miniconda3/envs/isae_course/lib/python3.7/site-packages/skdecide/hub/share/chuffed/mznlib/count.mzn'\n",
      "processing file '/Users/poveda_g/opt/miniconda3/envs/isae_course/lib/python3.7/site-packages/skdecide/hub/share/minizinc/std/count_lt.mzn'\n",
      "processing file '/Users/poveda_g/opt/miniconda3/envs/isae_course/lib/python3.7/site-packages/skdecide/hub/share/minizinc/std/fzn_count_lt_par_reif.mzn'\n",
      "processing file '/Users/poveda_g/opt/miniconda3/envs/isae_course/lib/python3.7/site-packages/skdecide/hub/share/minizinc/std/fzn_count_lt_reif.mzn'\n",
      "processing file '/Users/poveda_g/opt/miniconda3/envs/isae_course/lib/python3.7/site-packages/skdecide/hub/share/minizinc/std/fzn_count_lt_par.mzn'\n",
      "processing file '/Users/poveda_g/opt/miniconda3/envs/isae_course/lib/python3.7/site-packages/skdecide/hub/share/minizinc/std/fzn_count_lt.mzn'\n",
      "processing file '/Users/poveda_g/opt/miniconda3/envs/isae_course/lib/python3.7/site-packages/skdecide/hub/share/minizinc/std/count_gt.mzn'\n",
      "processing file '/Users/poveda_g/opt/miniconda3/envs/isae_course/lib/python3.7/site-packages/skdecide/hub/share/minizinc/std/fzn_count_gt_reif.mzn'\n",
      "processing file '/Users/poveda_g/opt/miniconda3/envs/isae_course/lib/python3.7/site-packages/skdecide/hub/share/minizinc/std/fzn_count_gt_par_reif.mzn'\n",
      "processing file '/Users/poveda_g/opt/miniconda3/envs/isae_course/lib/python3.7/site-packages/skdecide/hub/share/minizinc/std/fzn_count_gt.mzn'\n",
      "processing file '/Users/poveda_g/opt/miniconda3/envs/isae_course/lib/python3.7/site-packages/skdecide/hub/share/minizinc/std/fzn_count_gt_par.mzn'\n",
      "processing file '/Users/poveda_g/opt/miniconda3/envs/isae_course/lib/python3.7/site-packages/skdecide/hub/share/minizinc/std/count_neq.mzn'\n",
      "processing file '/Users/poveda_g/opt/miniconda3/envs/isae_course/lib/python3.7/site-packages/skdecide/hub/share/minizinc/std/fzn_count_neq_reif.mzn'\n",
      "processing file '/Users/poveda_g/opt/miniconda3/envs/isae_course/lib/python3.7/site-packages/skdecide/hub/share/minizinc/std/fzn_count_neq_par_reif.mzn'\n",
      "processing file '/Users/poveda_g/opt/miniconda3/envs/isae_course/lib/python3.7/site-packages/skdecide/hub/share/minizinc/std/fzn_count_neq.mzn'\n",
      "processing file '/Users/poveda_g/opt/miniconda3/envs/isae_course/lib/python3.7/site-packages/skdecide/hub/share/minizinc/std/fzn_count_neq_par.mzn'\n",
      "processing file '/Users/poveda_g/opt/miniconda3/envs/isae_course/lib/python3.7/site-packages/skdecide/hub/share/minizinc/std/count_leq.mzn'\n",
      "processing file '/Users/poveda_g/opt/miniconda3/envs/isae_course/lib/python3.7/site-packages/skdecide/hub/share/minizinc/std/fzn_count_leq_reif.mzn'\n",
      "processing file '/Users/poveda_g/opt/miniconda3/envs/isae_course/lib/python3.7/site-packages/skdecide/hub/share/minizinc/std/fzn_count_leq_par_reif.mzn'\n",
      "processing file '/Users/poveda_g/opt/miniconda3/envs/isae_course/lib/python3.7/site-packages/skdecide/hub/share/minizinc/std/fzn_count_leq.mzn'\n",
      "processing file '/Users/poveda_g/opt/miniconda3/envs/isae_course/lib/python3.7/site-packages/skdecide/hub/share/minizinc/std/fzn_count_leq_par.mzn'\n",
      "processing file '/Users/poveda_g/opt/miniconda3/envs/isae_course/lib/python3.7/site-packages/skdecide/hub/share/minizinc/std/count_geq.mzn'\n",
      "processing file '/Users/poveda_g/opt/miniconda3/envs/isae_course/lib/python3.7/site-packages/skdecide/hub/share/minizinc/std/fzn_count_geq_reif.mzn'\n",
      "processing file '/Users/poveda_g/opt/miniconda3/envs/isae_course/lib/python3.7/site-packages/skdecide/hub/share/minizinc/std/fzn_count_geq_par_reif.mzn'\n",
      "processing file '/Users/poveda_g/opt/miniconda3/envs/isae_course/lib/python3.7/site-packages/skdecide/hub/share/minizinc/std/fzn_count_geq.mzn'\n",
      "processing file '/Users/poveda_g/opt/miniconda3/envs/isae_course/lib/python3.7/site-packages/skdecide/hub/share/minizinc/std/fzn_count_geq_par.mzn'\n",
      "processing file '/Users/poveda_g/opt/miniconda3/envs/isae_course/lib/python3.7/site-packages/skdecide/hub/share/minizinc/std/count_eq.mzn'\n",
      "processing file '/Users/poveda_g/opt/miniconda3/envs/isae_course/lib/python3.7/site-packages/skdecide/hub/share/minizinc/std/fzn_count_eq_par_reif.mzn'\n",
      "processing file '/Users/poveda_g/opt/miniconda3/envs/isae_course/lib/python3.7/site-packages/skdecide/hub/share/minizinc/std/fzn_count_eq_reif.mzn'\n",
      "processing file '/Users/poveda_g/opt/miniconda3/envs/isae_course/lib/python3.7/site-packages/skdecide/hub/share/minizinc/std/fzn_count_eq_par.mzn'\n",
      "processing file '/Users/poveda_g/opt/miniconda3/envs/isae_course/lib/python3.7/site-packages/skdecide/hub/share/minizinc/std/fzn_count_eq.mzn'\n",
      "processing file '/Users/poveda_g/opt/miniconda3/envs/isae_course/lib/python3.7/site-packages/skdecide/hub/share/minizinc/std/redefinitions-2.5.2.mzn'\n",
      "processing file '/Users/poveda_g/opt/miniconda3/envs/isae_course/lib/python3.7/site-packages/skdecide/hub/share/minizinc/std/redefinitions-2.3.3.mzn'\n",
      "processing file '/Users/poveda_g/opt/miniconda3/envs/isae_course/lib/python3.7/site-packages/skdecide/hub/share/minizinc/std/redefinitions-2.2.1.mzn'\n",
      "processing file '/Users/poveda_g/opt/miniconda3/envs/isae_course/lib/python3.7/site-packages/skdecide/hub/share/minizinc/std/redefinitions-2.1.1.mzn'\n",
      "processing file '/Users/poveda_g/opt/miniconda3/envs/isae_course/lib/python3.7/site-packages/skdecide/hub/share/minizinc/std/redefinitions-2.1.mzn'\n",
      "processing file '/Users/poveda_g/opt/miniconda3/envs/isae_course/lib/python3.7/site-packages/skdecide/hub/share/minizinc/std/redefinitions-2.0.2.mzn'\n",
      "processing file '/Users/poveda_g/opt/miniconda3/envs/isae_course/lib/python3.7/site-packages/skdecide/hub/share/minizinc/std/redefinitions-2.0.mzn'\n",
      "processing file '/Users/poveda_g/opt/miniconda3/envs/isae_course/lib/python3.7/site-packages/skdecide/hub/share/chuffed/mznlib/redefinitions.mzn'\n",
      "processing file '/Users/poveda_g/opt/miniconda3/envs/isae_course/lib/python3.7/site-packages/skdecide/hub/share/minizinc/std/nosets.mzn'\n",
      "processing file '/var/folders/gj/k8__b59x78b9g9p2603_bww00000gn/T/tmp_6qk940f/model.mzn'\n",
      " done parsing (0.09 s)\n",
      "Flattening ...\n",
      "\tCompilePass: Flatten with '/Users/poveda_g/opt/miniconda3/envs/isae_course/lib/python3.7/site-packages/skdecide/hub/share/minizinc//' library ...\n",
      "MIP domains ... done (0.02 s)\n",
      "Optimizing ... done (0.02 s)\n",
      "Converting to old FlatZinc ... done (0.02 s)\n",
      " done (0.02 s)\n",
      " done (0.11 s), max stack depth 5\n",
      "Maximum memory 3 Mbytes.\n",
      "      % SOLVING PHASE\n",
      "FZN solver plugin, compiled  Oct  4 2021  16:25:10\n",
      "Using FZN solver /Users/poveda_g/opt/miniconda3/envs/isae_course/lib/python3.7/site-packages/skdecide/hub/bin/fzn-chuffed for solving, parameters: -v \n",
      "   Done (overall time 0.13 s).\n",
      "Solver output:\n",
      "mzn-stat: nodes=1\n",
      "mzn-stat: failures=0\n",
      "mzn-stat: restarts=0\n",
      "mzn-stat: variables=2\n",
      "mzn-stat: intVars=0\n",
      "mzn-stat: boolVariables=0\n",
      "mzn-stat: propagators=1\n",
      "mzn-stat: propagations=0\n",
      "mzn-stat: peakDepth=0\n",
      "mzn-stat: nogoods=0\n",
      "mzn-stat: backjumps=0\n",
      "mzn-stat: peakMem=0.00\n",
      "mzn-stat: time=0.000\n",
      "mzn-stat: initTime=0.000\n",
      "mzn-stat: solveTime=0.000\n",
      "mzn-stat: baseMem=0.00\n",
      "mzn-stat: trailMem=0.00\n",
      "mzn-stat: randomSeed=1649176542\n"
     ]
    }
   ],
   "source": [
    "%%minizinc -m bind --verbose --solver chuffed\n",
    "%load correction/nb2_rcpsp_mzn.mzn"
   ]
  },
  {
   "cell_type": "code",
   "execution_count": 59,
   "id": "2de8f303",
   "metadata": {},
   "outputs": [],
   "source": [
    "solution = RCPSPSolution(problem=model, \n",
    "                         rcpsp_schedule={model.tasks_list[i]: {\"start_time\": start[i],\n",
    "                                                               \"end_time\": start[i]+d[i]}\n",
    "                                         for i in range(model.n_jobs)})"
   ]
  },
  {
   "cell_type": "code",
   "execution_count": 60,
   "id": "fc622056",
   "metadata": {},
   "outputs": [
    {
     "data": {
      "image/png": "[encoded data removed]",
      "text/plain": [
       "<Figure size 720x720 with 1 Axes>"
      ]
     },
     "execution_count": 60,
     "metadata": {},
     "output_type": "execute_result"
    },
    {
     "data": {
      "image/png": "[encoded data removed]",
      "text/plain": [
       "<Figure size 720x360 with 4 Axes>"
      ]
     },
     "metadata": {
      "needs_background": "light"
     },
     "output_type": "display_data"
    },
    {
     "data": {
      "image/png": "[encoded data removed]",
      "text/plain": [
       "<Figure size 720x720 with 1 Axes>"
      ]
     },
     "metadata": {
      "needs_background": "light"
     },
     "output_type": "display_data"
    }
   ],
   "source": [
    "from discrete_optimization.rcpsp.rcpsp_utils import plot_ressource_view, plot_task_gantt\n",
    "plot_ressource_view(model, solution)\n",
    "plot_task_gantt(model, solution)"
   ]
  },
  {
   "cell_type": "code",
   "execution_count": null,
   "id": "156dd001",
   "metadata": {},
   "outputs": [],
   "source": []
  }
 ],
 "metadata": {
  "kernelspec": {
   "display_name": "isae_course",
   "language": "python",
   "name": "isae_course"
  },
  "language_info": {
   "codemirror_mode": {
    "name": "ipython",
    "version": 3
   },
   "file_extension": ".py",
   "mimetype": "text/x-python",
   "name": "python",
   "nbconvert_exporter": "python",
   "pygments_lexer": "ipython3",
   "version": "3.7.13"
  }
 },
 "nbformat": 4,
 "nbformat_minor": 5
}
