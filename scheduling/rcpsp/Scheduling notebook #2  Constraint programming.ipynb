{
 "cells": [
  {
   "cell_type": "markdown",
   "id": "c7cf2032",
   "metadata": {},
   "source": [
    "# Modelling scheduling problem as constraint programming "
   ]
  },
  {
   "cell_type": "markdown",
   "id": "3d267234",
   "metadata": {},
   "source": [
    "In this AIBT you learnt how to model a combinatorial optimisation problem using either Constraint Programming or Mixed Integer Linear programming paradigm. https://www.xoolive.org/optim4ai/\n",
    "In this notebook you will be able to apply your CP modelling abilities to model RCPSP problem. Please refer to first notebook and slide deck [prez_Complex_Scheduling.pdf] to understand what constraints should be implemented"
   ]
  },
  {
   "cell_type": "markdown",
   "id": "027d714f",
   "metadata": {},
   "source": [
    "We will minizinc language directly in the notebook. In order to do that, just need to call this pip command."
   ]
  },
  {
   "cell_type": "code",
   "execution_count": null,
   "id": "a9dba509",
   "metadata": {},
   "outputs": [],
   "source": [
    "!pip install iminizinc"
   ]
  },
  {
   "cell_type": "code",
   "execution_count": null,
   "id": "80fc0789",
   "metadata": {},
   "outputs": [],
   "source": [
    "import sys, os\n",
    "this_folder = os.getcwd()\n",
    "sys.path.append(os.path.join(this_folder, \"discrete_optimisation/\"))\n",
    "import skdecide.hub\n",
    "%load_ext iminizinc"
   ]
  },
  {
   "cell_type": "code",
   "execution_count": null,
   "id": "3cd90f56",
   "metadata": {},
   "outputs": [],
   "source": [
    "from discrete_optimization.rcpsp.rcpsp_model import RCPSPModel, RCPSPSolution\n",
    "from discrete_optimization.rcpsp.rcpsp_parser import files_available, parse_file"
   ]
  },
  {
   "cell_type": "code",
   "execution_count": null,
   "id": "afd8fd7b",
   "metadata": {},
   "outputs": [],
   "source": [
    "file = [f for f in files_available if \"j301_10.sm\" in f][0]\n",
    "model = parse_file(file)\n",
    "print(model)"
   ]
  },
  {
   "cell_type": "code",
   "execution_count": null,
   "id": "089ba70c",
   "metadata": {},
   "outputs": [],
   "source": [
    "# Data definition for minizinc...\n",
    "index_in_minizinc = {model.tasks_list[i]: i+1 for i in range(model.n_jobs)}\n",
    "max_time = model.horizon\n",
    "n_res = len(model.resources_list)\n",
    "rc = [model.get_max_resource_capacity(r) for r in model.resources_list]\n",
    "n_tasks = model.n_jobs\n",
    "d = [model.mode_details[t][1][\"duration\"] for t in model.tasks_list]\n",
    "rr = [[model.mode_details[t][1][r] for t in model.tasks_list] for r in model.resources_list]\n",
    "adj = [[False for t in model.tasks_list] for t in model.tasks_list]\n",
    "for t in model.tasks_list:\n",
    "    for s in model.successors[t]:\n",
    "        adj[index_in_minizinc[t]-1][index_in_minizinc[s]-1] = True\n"
   ]
  },
  {
   "cell_type": "code",
   "execution_count": null,
   "id": "9235ba24",
   "metadata": {},
   "outputs": [],
   "source": [
    "%%minizinc -m bind --v\n",
    "int: max_time;\n",
    "set of int: TIMES=0..max_time;\n",
    "int: n_res;                     % The number of resources\n",
    "set of int: Res = 1..n_res;     % The set of all resources\n",
    "array [Res] of int: rc;         % The resource capabilities\n",
    "\n",
    "% Tasks\n",
    "%\n",
    "int: n_tasks;                           % The number of tasks\n",
    "set of int: Tasks = 1..n_tasks;         % The set of all tasks\n",
    "array [Tasks] of int: d;                % The task durations\n",
    "array [Res, Tasks] of int: rr ;         % The resource requirements\n",
    "array [Tasks, Tasks] of bool: adj;      % Adjacency matrix\n",
    "array [Tasks] of set of Tasks: suc = [{p|p in Tasks where adj[j,p]}|j in Tasks];\n",
    "\n",
    "% Variable \n",
    "array [Tasks] of var TIMES: s;  % The start times\n",
    "var TIMES: makespan      ;  % The project duration (makespan)\n",
    "\n",
    "% WRITE YOUR CONSTRAINTS :) !!!\n",
    "output [\"\\(successors)\"];\n",
    "solve satisfy;"
   ]
  },
  {
   "cell_type": "code",
   "execution_count": null,
   "id": "1b68ead9",
   "metadata": {},
   "outputs": [],
   "source": [
    "print(s)"
   ]
  },
  {
   "cell_type": "markdown",
   "id": "a1cc3060",
   "metadata": {},
   "source": [
    "## Correction (to hide)"
   ]
  },
  {
   "cell_type": "code",
   "execution_count": null,
   "id": "70ddc9b6",
   "metadata": {},
   "outputs": [],
   "source": [
    "#%%minizinc -m bind --verbose --solver chuffed\n",
    "#%load correction/nb2_rcpsp_mzn.mzn"
   ]
  },
  {
   "cell_type": "code",
   "execution_count": null,
   "id": "2de8f303",
   "metadata": {},
   "outputs": [],
   "source": [
    "solution = RCPSPSolution(problem=model, \n",
    "                         rcpsp_schedule={model.tasks_list[i]: {\"start_time\": start[i],\n",
    "                                                               \"end_time\": start[i]+d[i]}\n",
    "                                         for i in range(model.n_jobs)})"
   ]
  },
  {
   "cell_type": "code",
   "execution_count": null,
   "id": "fc622056",
   "metadata": {},
   "outputs": [],
   "source": [
    "from discrete_optimization.rcpsp.rcpsp_utils import plot_ressource_view, plot_task_gantt\n",
    "plot_ressource_view(model, solution)\n",
    "plot_task_gantt(model, solution)"
   ]
  },
  {
   "cell_type": "code",
   "execution_count": null,
   "id": "156dd001",
   "metadata": {},
   "outputs": [],
   "source": []
  }
 ],
 "metadata": {
  "kernelspec": {
   "display_name": "isae_course",
   "language": "python",
   "name": "isae_course"
  },
  "language_info": {
   "codemirror_mode": {
    "name": "ipython",
    "version": 3
   },
   "file_extension": ".py",
   "mimetype": "text/x-python",
   "name": "python",
   "nbconvert_exporter": "python",
   "pygments_lexer": "ipython3",
   "version": "3.7.13"
  }
 },
 "nbformat": 4,
 "nbformat_minor": 5
}
