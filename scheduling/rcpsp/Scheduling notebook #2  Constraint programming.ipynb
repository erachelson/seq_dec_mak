{
 "cells": [
  {
   "cell_type": "markdown",
   "id": "c7cf2032",
   "metadata": {},
   "source": [
    "# Modelling scheduling problem as constraint programming "
   ]
  },
  {
   "cell_type": "markdown",
   "id": "3d267234",
   "metadata": {},
   "source": [
    "In this AIBT you learnt how to model a combinatorial optimisation problem using either Constraint Programming or Mixed Integer Linear programming paradigm. https://www.xoolive.org/optim4ai/\n",
    "In this notebook you will be able to apply your CP modelling abilities to model RCPSP problem. Please refer to first notebook and slide deck [prez_Complex_Scheduling.pdf] to understand what constraints should be implemented"
   ]
  },
  {
   "cell_type": "markdown",
   "id": "027d714f",
   "metadata": {},
   "source": [
    "We will minizinc language directly in the notebook. In order to do that, just need to call this pip command."
   ]
  },
  {
   "cell_type": "code",
   "execution_count": null,
   "id": "a9dba509",
   "metadata": {},
   "outputs": [],
   "source": [
    "!pip install iminizinc"
   ]
  },
  {
   "cell_type": "markdown",
   "id": "07a474d6",
   "metadata": {},
   "source": [
    "## Usefull imports"
   ]
  },
  {
   "cell_type": "code",
   "execution_count": null,
   "id": "80fc0789",
   "metadata": {},
   "outputs": [],
   "source": [
    "import sys, os\n",
    "this_folder = os.getcwd()\n",
    "sys.path.append(os.path.join(this_folder, \"discrete_optimisation/\"))\n",
    "import skdecide.hub"
   ]
  },
  {
   "cell_type": "markdown",
   "id": "8d905cea",
   "metadata": {},
   "source": [
    "## Discrete optimisation imports : \n",
    "Let's load the same scheduling problem as the previous notebook : "
   ]
  },
  {
   "cell_type": "code",
   "execution_count": null,
   "id": "3cd90f56",
   "metadata": {},
   "outputs": [],
   "source": [
    "from discrete_optimization.rcpsp.rcpsp_model import RCPSPModel, RCPSPSolution\n",
    "from discrete_optimization.rcpsp.rcpsp_parser import files_available, parse_file"
   ]
  },
  {
   "cell_type": "code",
   "execution_count": null,
   "id": "afd8fd7b",
   "metadata": {},
   "outputs": [],
   "source": [
    "file = [f for f in files_available if \"j301_10.sm\" in f][0]\n",
    "model = parse_file(file)\n",
    "print(model)"
   ]
  },
  {
   "cell_type": "markdown",
   "id": "69589397",
   "metadata": {},
   "source": [
    "## CP modelling\n",
    "In this section you will be invited to write a basic constraint programming model for RCPSP. You can do it directly in jupyter notebooks by using ```iminizinc```. "
   ]
  },
  {
   "cell_type": "code",
   "execution_count": null,
   "id": "a6191bf1",
   "metadata": {},
   "outputs": [],
   "source": [
    "%load_ext iminizinc"
   ]
  },
  {
   "cell_type": "markdown",
   "id": "10cde279",
   "metadata": {},
   "source": [
    "Let's define then the necessary input data for our model. "
   ]
  },
  {
   "cell_type": "code",
   "execution_count": null,
   "id": "089ba70c",
   "metadata": {},
   "outputs": [],
   "source": [
    "# task_id -> index between 1..model.n_jobs\n",
    "index_in_minizinc = {model.tasks_list[i]: i+1 for i in range(model.n_jobs)}\n",
    "# upper bound on the makespan of the schedule.\n",
    "max_time = model.horizon\n",
    "# number of ressource\n",
    "n_res = len(model.resources_list)\n",
    "# capacity of the ressource\n",
    "rc = [model.get_max_resource_capacity(r) for r in model.resources_list]\n",
    "# number of tasks\n",
    "n_tasks = model.n_jobs\n",
    "# durations of the tasks\n",
    "d = [model.mode_details[t][1][\"duration\"] for t in model.tasks_list]\n",
    "# n_res*n_tasks array containing the ressource need for all tasks\n",
    "rr = [[model.mode_details[t][1][r] for t in model.tasks_list] for r in model.resources_list]\n",
    "\n",
    "# Adjacency matrix of the precedence graph : adj[i][j] = true if j is a successor of i.\n",
    "adj = [[False for t in model.tasks_list] for t in model.tasks_list]\n",
    "for t in model.tasks_list:\n",
    "    for s in model.successors[t]:\n",
    "        adj[index_in_minizinc[t]-1][index_in_minizinc[s]-1] = True"
   ]
  },
  {
   "cell_type": "markdown",
   "id": "e1f1fba0",
   "metadata": {},
   "source": [
    "The variables will be assignated in the following minizinc model that you will have to fill. Running this cell will run the model solver for 100 seconds using the Chuffed solver. \n",
    "\n",
    "<b>Exercise</b> : write down a basic model that provides feasible solution to the rcpsp problem. And if possible giving good objectives value."
   ]
  },
  {
   "cell_type": "code",
   "execution_count": null,
   "id": "9235ba24",
   "metadata": {},
   "outputs": [],
   "source": [
    "%%minizinc -m bind --v --time-limit 100000 --solver chuffed\n",
    "int: max_time;\n",
    "set of int: TIMES=0..max_time;\n",
    "int: n_res;                     % The number of resources\n",
    "set of int: Res = 1..n_res;     % The set of all resources\n",
    "array [Res] of int: rc;         % The resource capabilities\n",
    "\n",
    "% Tasks\n",
    "%\n",
    "int: n_tasks;                           % The number of tasks\n",
    "set of int: Tasks = 1..n_tasks;         % The set of all tasks\n",
    "array [Tasks] of int: d;                % The task durations\n",
    "array [Res, Tasks] of int: rr ;         % The resource requirements\n",
    "array [Tasks, Tasks] of bool: adj;      % Adjacency matrix\n",
    "array [Tasks] of set of Tasks: suc = [{p|p in Tasks where adj[j,p]}|j in Tasks];\n",
    "\n",
    "% Variable \n",
    "array [Tasks] of var TIMES: s;  % The start times\n",
    "var TIMES: makespan      ;  % The project duration (makespan)\n",
    "\n",
    "% WRITE YOUR CONSTRAINTS :) !!!\n",
    "\n",
    "\n",
    "output [\"starting time = \\(s), makespan = \\(makespan)\"];\n",
    "solve minimize makespan;"
   ]
  },
  {
   "cell_type": "code",
   "execution_count": null,
   "id": "1b68ead9",
   "metadata": {},
   "outputs": [],
   "source": [
    "print(s)"
   ]
  },
  {
   "cell_type": "code",
   "execution_count": null,
   "id": "70ddc9b6",
   "metadata": {},
   "outputs": [],
   "source": [
    "#%%minizinc -m bind --verbose --solver chuffed\n",
    "#%load correction/nb2_rcpsp_mzn.mzn  # Local correction, that you don't have !"
   ]
  },
  {
   "cell_type": "markdown",
   "id": "b9c9fd63",
   "metadata": {},
   "source": [
    "# Solution checker \n",
    "You can rebuild a solution object from the obtained schedule. And check if it is satisfiable."
   ]
  },
  {
   "cell_type": "code",
   "execution_count": null,
   "id": "2de8f303",
   "metadata": {},
   "outputs": [],
   "source": [
    "solution = RCPSPSolution(problem=model, \n",
    "                         rcpsp_schedule={model.tasks_list[i]: {\"start_time\": s[i],\n",
    "                                                               \"end_time\": s[i]+d[i]}\n",
    "                                         for i in range(model.n_jobs)})\n",
    "print(\"Satisfy : \", model.satisfy(solution))\n",
    "print(\"Evaluation : \", model.evaluate(solution))"
   ]
  },
  {
   "cell_type": "code",
   "execution_count": null,
   "id": "fc622056",
   "metadata": {},
   "outputs": [],
   "source": [
    "from discrete_optimization.rcpsp.rcpsp_utils import plot_ressource_view, plot_task_gantt\n",
    "plot_ressource_view(model, solution)\n",
    "plot_task_gantt(model, solution)"
   ]
  },
  {
   "cell_type": "code",
   "execution_count": null,
   "id": "156dd001",
   "metadata": {},
   "outputs": [],
   "source": []
  }
 ],
 "metadata": {
  "kernelspec": {
   "display_name": "isae_course",
   "language": "python",
   "name": "isae_course"
  },
  "language_info": {
   "codemirror_mode": {
    "name": "ipython",
    "version": 3
   },
   "file_extension": ".py",
   "mimetype": "text/x-python",
   "name": "python",
   "nbconvert_exporter": "python",
   "pygments_lexer": "ipython3",
   "version": "3.7.13"
  }
 },
 "nbformat": 4,
 "nbformat_minor": 5
}
