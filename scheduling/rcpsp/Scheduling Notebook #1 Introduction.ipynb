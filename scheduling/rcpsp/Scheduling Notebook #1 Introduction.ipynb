{
 "cells": [
  {
   "cell_type": "markdown",
   "id": "4fc00c69",
   "metadata": {},
   "source": [
    "# Resource project scheduling problems"
   ]
  },
  {
   "cell_type": "markdown",
   "id": "95cb5e32",
   "metadata": {},
   "source": [
    "In this notebook, we explore how to solve a resource constrained project scheduling problem (RCPSP).\n",
    "\n",
    "The problem is made of $M$ activities that have precedence constraints. That means that if activity $j\\in[1,M]$ is a successor of activity $i\\in[1,M]$, then activity $i$ must be completed before activity $j$ can be started\n",
    "\n",
    "On top of these constraints, each project is assigned a set of K renewable resources where each resource $k$ is available in $R_{k}$ units for the entire duration of the project. Each activity may require one or more of these resources to be completed. While scheduling the activities, the daily resource usage for resource $k$ can not exceed $R_{k}$ units.\n",
    "\n",
    "Each activity $j$ takes $d_{j}$ time units to complete.\n",
    "\n",
    "The overall goal of the problem is usually to minimize the makespan.\n",
    "\n",
    "A classic variant of RCPSP is the multimode RCPSP where each task can be executed in several ways (one way=one mode). A typical example is :\n",
    "\n",
    "Mode n°1 'Fast mode': high resource consumption and fast\n",
    "Mode n°2 'Slow mode' : low resource consumption but slow"
   ]
  },
  {
   "cell_type": "markdown",
   "id": "e3a41c98",
   "metadata": {},
   "source": [
    "## A simple problem definition\n",
    "\n",
    "Let start with a very simple problem which has only 5 tasks to execute:\n",
    "All tasks have specific durations and they can consume 1 type of renewable resources.\n",
    "\n",
    "Some tasks need to be executed after some have completed, for example:\n",
    " - Task 1 has 2 successors: task 2 and task 4\n",
    " - Task 2 has a single successor: Task 3\n",
    " - Task 3 and Task 4 have the same successor: Task 5\n",
    " - Task 5 has no successor\n",
    " \n",
    "Task 0 & Task 5 have specific roles. The first one is called the source and the former the sink. They ususally have a zero duration.\n",
    "\n",
    "In our problem, Tasks 2 & 3 have a duration of 3 while Task 4 has a duration of 7 units.\n",
    "\n",
    "![image.png](images/sched.png)"
   ]
  },
  {
   "cell_type": "code",
   "execution_count": null,
   "id": "e678c5ce",
   "metadata": {},
   "outputs": [],
   "source": [
    "# To load minizinc path etc.\n",
    "import skdecide.hub"
   ]
  },
  {
   "cell_type": "code",
   "execution_count": null,
   "id": "2d1045e3",
   "metadata": {},
   "outputs": [],
   "source": [
    "import sys, os\n",
    "this_folder = os.getcwd()\n",
    "sys.path.append(os.path.join(this_folder, \"discrete_optimisation/\"))"
   ]
  },
  {
   "cell_type": "markdown",
   "id": "18565cb5",
   "metadata": {},
   "source": [
    "# Missing installation"
   ]
  },
  {
   "cell_type": "code",
   "execution_count": null,
   "id": "a2e686ee",
   "metadata": {},
   "outputs": [],
   "source": [
    "!pip install numba\n",
    "!pip install sortedcontainers\n",
    "!pip install shapely"
   ]
  },
  {
   "cell_type": "markdown",
   "id": "538a43b3",
   "metadata": {},
   "source": [
    "## Loading the problems definition"
   ]
  },
  {
   "cell_type": "code",
   "execution_count": null,
   "id": "41c625a2",
   "metadata": {},
   "outputs": [],
   "source": [
    "from discrete_optimization.rcpsp.rcpsp_model import RCPSPModel, RCPSPSolution\n",
    "from discrete_optimization.rcpsp.rcpsp_parser import files_available, parse_file"
   ]
  },
  {
   "cell_type": "code",
   "execution_count": null,
   "id": "e047b65d",
   "metadata": {},
   "outputs": [],
   "source": [
    "print([os.path.basename(f) for f in files_available])"
   ]
  },
  {
   "cell_type": "markdown",
   "id": "e1f44afe",
   "metadata": {},
   "source": [
    "Now we can load some RCPSP problem from provided examples"
   ]
  },
  {
   "cell_type": "code",
   "execution_count": null,
   "id": "26436718",
   "metadata": {},
   "outputs": [],
   "source": [
    "file = [f for f in files_available if \"j301_10.sm\" in f][0]\n",
    "model = parse_file(file)\n",
    "print(model)"
   ]
  },
  {
   "cell_type": "code",
   "execution_count": null,
   "id": "2b51ed13",
   "metadata": {},
   "outputs": [],
   "source": [
    "print(model, \"\\n\", model.mode_details)"
   ]
  },
  {
   "cell_type": "markdown",
   "id": "6f969467",
   "metadata": {},
   "source": [
    "The problem includes 32 tasks and 4 ressources.\n",
    "The precedence relations are stores in ``successors`` attributes : "
   ]
  },
  {
   "cell_type": "code",
   "execution_count": null,
   "id": "9deb0ab1",
   "metadata": {},
   "outputs": [],
   "source": [
    "print(model.successors)"
   ]
  },
  {
   "cell_type": "markdown",
   "id": "0d2aeb95",
   "metadata": {},
   "source": [
    "Let's look at the precedence graph."
   ]
  },
  {
   "cell_type": "code",
   "execution_count": null,
   "id": "992a3cd0",
   "metadata": {},
   "outputs": [],
   "source": [
    "from discrete_optimization.generic_rcpsp_tools.graph_tools_rcpsp import build_graph_rcpsp_object\n",
    "import networkx as nx\n",
    "import matplotlib.pyplot as plt\n",
    "graph = build_graph_rcpsp_object(model)\n",
    "graph_nx = graph.graph_nx\n",
    "dfs = nx.dfs_tree(G=graph_nx, source=1, depth_limit=10)\n",
    "shortest_path_length = nx.shortest_path_length(dfs, 1)\n",
    "length_to_nodes = {}\n",
    "position = {}\n",
    "for node in sorted(shortest_path_length, key=lambda x: shortest_path_length[x]):\n",
    "    length = shortest_path_length[node]\n",
    "    while not(length not in length_to_nodes or len(length_to_nodes[length]) <= 5):\n",
    "        length += 1\n",
    "    if length not in length_to_nodes:\n",
    "        length_to_nodes[length] = []\n",
    "    length_to_nodes[length] += [node]\n",
    "    position[node] = (length, len(length_to_nodes[length]))\n",
    "nx.draw_networkx(graph_nx, pos=position)\n",
    "plt.show()"
   ]
  },
  {
   "cell_type": "markdown",
   "id": "f2a4e23a",
   "metadata": {},
   "source": [
    "# Compute critical path"
   ]
  },
  {
   "cell_type": "markdown",
   "id": "f5ae66ef",
   "metadata": {},
   "source": [
    "The critical path in project management is the longest path in the problem that can't be compressed, therefore it is a lower bound on the optimal makespan that is reachable. It represents a path in the precedence graph.\n",
    "To compute the critical, one can compute a largest path in the precedence constraints. "
   ]
  },
  {
   "cell_type": "code",
   "execution_count": null,
   "id": "0282be19",
   "metadata": {},
   "outputs": [],
   "source": [
    "import networkx as nx\n",
    "for edge in graph_nx.edges():\n",
    "    graph_nx[edge[0]][edge[1]][\"min_duration\"] = min([model.mode_details[edge[1]][mode][\"duration\"]\n",
    "                                                      for mode in model.mode_details[edge[1]]])\n",
    "    graph_nx[edge[0]][edge[1]][\"minus_min_duration\"] = -graph_nx[edge[0]][edge[1]][\"min_duration\"]\n",
    "path = nx.astar_path(G=graph_nx,\n",
    "                     source=model.source_task,\n",
    "                     target=model.sink_task,\n",
    "                     heuristic=lambda x, y: -100 if x!=y else 0,\n",
    "                     weight=\"minus_min_duration\")\n",
    "# Or alternatively\n",
    "# path = nx.dag_longest_path(G=graph_nx, weight='min_duration', \n",
    "#                            default_weight=1, topo_order=None)\n",
    "edges = [(n1, n2) for n1, n2 in zip(path[:-1], path[1:])]\n",
    "duration = sum(graph_nx[n[0]][n[1]][\"min_duration\"] for n in edges)\n",
    "print(\"Duration of critical path : \", duration)"
   ]
  },
  {
   "cell_type": "markdown",
   "id": "906f01da",
   "metadata": {},
   "source": [
    "### Plot the critical path : "
   ]
  },
  {
   "cell_type": "code",
   "execution_count": null,
   "id": "f45b4231",
   "metadata": {},
   "outputs": [],
   "source": [
    "fig, ax = plt.subplots(1)\n",
    "nx.draw_networkx(graph_nx, pos=position, ax=ax)\n",
    "nx.draw_networkx_edges(graph_nx, pos=position, edgelist=edges, edge_color=\"r\", ax=ax)"
   ]
  },
  {
   "cell_type": "code",
   "execution_count": null,
   "id": "28de71f1",
   "metadata": {},
   "outputs": [],
   "source": [
    "from discrete_optimization.rcpsp.solver.cpm import CPM, CPMObject"
   ]
  },
  {
   "cell_type": "code",
   "execution_count": null,
   "id": "bfbb399d",
   "metadata": {},
   "outputs": [],
   "source": [
    "CPM??"
   ]
  },
  {
   "cell_type": "markdown",
   "id": "84be7cd9",
   "metadata": {},
   "source": [
    "## Other procedure to compute critical path or minimum project duration"
   ]
  },
  {
   "cell_type": "markdown",
   "id": "6ed6bdce",
   "metadata": {},
   "source": [
    "The critical path can be computed by a graph procedure described in https://www.youtube.com/watch?v=4oDLMs11Exs. It is a quite simple, forward and backward graph exploration. In the end it provides earliest start date, earliest finish date, and their counterpart (for a optimal schedule) : latest start date, latest finish date."
   ]
  },
  {
   "cell_type": "code",
   "execution_count": null,
   "id": "e321108f",
   "metadata": {},
   "outputs": [],
   "source": [
    "solver = CPM(rcpsp_model=model)\n",
    "critical_path = solver.run_classic_cpm()\n",
    "edges = [(pi, pi1) for pi, pi1 in zip(critical_path[:-1], critical_path[1:])]\n",
    "print(solver.map_node[model.sink_task])"
   ]
  },
  {
   "cell_type": "markdown",
   "id": "56d742c3",
   "metadata": {},
   "source": [
    "The critical path can be identified as nodes where all the values are equals."
   ]
  },
  {
   "cell_type": "code",
   "execution_count": null,
   "id": "d40da405",
   "metadata": {},
   "outputs": [],
   "source": [
    "fig, ax = plt.subplots(1)\n",
    "nx.draw_networkx(graph_nx, pos=position, ax=ax)\n",
    "nx.draw_networkx_edges(graph_nx, pos=position, edgelist=edges, edge_color=\"r\", ax=ax)"
   ]
  },
  {
   "cell_type": "markdown",
   "id": "ec1167a5",
   "metadata": {},
   "source": [
    "For ressource constrained scheduling problems, this forward/backward pass is not sufficient to compute a schedule, because the ressource capacity constraints are not taken into account. However the *ESD*, *LSD*, *EFD*, *LFD* values can be used in various heuristics to schedule tasks by priority."
   ]
  },
  {
   "cell_type": "markdown",
   "id": "2b2eefd3",
   "metadata": {},
   "source": [
    "## Plotting a solution"
   ]
  },
  {
   "cell_type": "code",
   "execution_count": null,
   "id": "6bf9f6cc",
   "metadata": {},
   "outputs": [],
   "source": [
    "some_solution = model.get_dummy_solution()"
   ]
  },
  {
   "cell_type": "code",
   "execution_count": null,
   "id": "d8031b15",
   "metadata": {},
   "outputs": [],
   "source": [
    "from discrete_optimization.rcpsp.rcpsp_utils import plot_ressource_view, plot_task_gantt\n",
    "plot_ressource_view(model, some_solution)\n",
    "plot_task_gantt(model, some_solution)"
   ]
  },
  {
   "cell_type": "markdown",
   "id": "e228f559",
   "metadata": {},
   "source": [
    "## SGS : Serial Generation Scheme\n"
   ]
  },
  {
   "cell_type": "markdown",
   "id": "8282e636",
   "metadata": {},
   "source": [
    "![image.png](images/sgs.png)"
   ]
  },
  {
   "cell_type": "markdown",
   "id": "d0bed4a4",
   "metadata": {},
   "source": [
    "SGS algorithms is an procedure that aims at building *feasible* schedule from a permutation of task. The task are inserted in the priority order they are in the permutation list, as soon as possible."
   ]
  },
  {
   "cell_type": "markdown",
   "id": "d824ab1e",
   "metadata": {},
   "source": [
    "## Exercise : \n",
    "code the SGS algorithm based on the previous algorithm !"
   ]
  },
  {
   "cell_type": "code",
   "execution_count": null,
   "id": "0310dc66",
   "metadata": {},
   "outputs": [],
   "source": [
    "import numpy as np\n",
    "def sgs_algorithm(rcpsp_model: RCPSPModel, \n",
    "                  permutation_of_task: List[Hashable], predecessors=None):\n",
    "    # Compute predecessors for each task. \n",
    "    if predecessors is None:\n",
    "        predecessors = {k: set() for k in rcpsp_model.tasks_list}\n",
    "        for k in rcpsp_model.successors:\n",
    "            succ = rcpsp_model.successors[k]\n",
    "            for s in succ:\n",
    "                predecessors[s].add(k)\n",
    "    # duration of the tasks.\n",
    "    duration_task = {k: rcpsp_model.mode_details[k][1][\"duration\"] for k in rcpsp_model.mode_details}\n",
    "\n",
    "    # Schedule to fill..\n",
    "    schedule = {k: {\"start_time\": None,\n",
    "                    \"end_time\": None}\n",
    "                for k in rcpsp_model.tasks_list}\n",
    "    \n",
    "    \n",
    "    resources_availability = {r: rcpsp_model.get_resource_availability_array(r) \n",
    "                              for r in rcpsp_model.resources_list}\n",
    "    while True:\n",
    "        # Select task to be scheduled at this round...\n",
    "        # etc\n",
    "        \n",
    "        schedule[??][\"start_time\"] = ?\n",
    "        schedule[??][\"end_time\"] = ?\n",
    "    return schedule    "
   ]
  },
  {
   "cell_type": "markdown",
   "id": "b2f94f60",
   "metadata": {},
   "source": [
    "If you are blocked, you can retrieve one corrected version of the SGS by decommenting the following cell : "
   ]
  },
  {
   "cell_type": "code",
   "execution_count": null,
   "id": "ff0d8ae7",
   "metadata": {},
   "outputs": [],
   "source": [
    "# %load correction/nb1_correction.py"
   ]
  },
  {
   "cell_type": "markdown",
   "id": "2af1e088",
   "metadata": {},
   "source": [
    "## Testing the sgs : \n",
    "From the sgs output, it is quite easy to rebuild a RCPSPSolution object and check if it returns a feasible schedule, by calling the \".satisfy()\" function."
   ]
  },
  {
   "cell_type": "code",
   "execution_count": null,
   "id": "511de3fa",
   "metadata": {},
   "outputs": [],
   "source": [
    "tasks_list_permutation = list(model.tasks_list)\n",
    "import random\n",
    "random.shuffle(tasks_list_permutation)\n",
    "schedule = sgs_algorithm(model, tasks_list_permutation)\n",
    "print(schedule)\n",
    "solution = RCPSPSolution(problem=model, rcpsp_schedule=schedule)\n",
    "print(model.satisfy(solution))"
   ]
  },
  {
   "cell_type": "markdown",
   "id": "577baa43",
   "metadata": {},
   "source": [
    "Evaluate : "
   ]
  },
  {
   "cell_type": "code",
   "execution_count": null,
   "id": "86aaf8ca",
   "metadata": {},
   "outputs": [],
   "source": [
    "model.evaluate(solution)"
   ]
  },
  {
   "cell_type": "markdown",
   "id": "96f8892d",
   "metadata": {},
   "source": [
    "### Build a permutation based on critical path computation output :\n",
    "SGS can be seen as a priority based greedy algorithm, the more the task id is on the left side of the permutation, the more it has chance to be scheduled faster. \n",
    "We can therefore build heuristic ordering of the task and run SGS on it. One idea it to reuse output of the CPM algorithm to schedule first the task that have the lowest earliest finish date for example, but you can imagine other rules : "
   ]
  },
  {
   "cell_type": "code",
   "execution_count": null,
   "id": "c27b4d14",
   "metadata": {},
   "outputs": [],
   "source": [
    "# list sorted by EFD ?\n",
    "perm_efd = sorted(model.tasks_list, key=lambda x: solver.map_node[x]._EFD)\n",
    "sol_efd = sgs_algorithm(model, perm_efd)\n",
    "solution_efd = RCPSPSolution(problem=model, rcpsp_schedule=sol_efd)\n",
    "print(\"Available fields in CPM output : \", solver.map_node[1].__dict__.keys())\n",
    "\n",
    "perm_esd = sorted(model.tasks_list, key=lambda x: solver.map_node[x]._ESD)\n",
    "sol_esd = sgs_algorithm(model, perm_esd)\n",
    "solution_esd = RCPSPSolution(problem=model, rcpsp_schedule=sol_esd)\n",
    "\n",
    "# Try different methods ?\n",
    "# What would be your best results ?\n",
    "print(\"EFD \", model.evaluate(solution_efd))\n",
    "print(\"ESD \", model.evaluate(solution_esd))"
   ]
  },
  {
   "cell_type": "code",
   "execution_count": null,
   "id": "936da98b",
   "metadata": {},
   "outputs": [],
   "source": [
    "plot_ressource_view(model, solution_efd)"
   ]
  },
  {
   "cell_type": "code",
   "execution_count": null,
   "id": "291c855e",
   "metadata": {},
   "outputs": [],
   "source": [
    "print(\"EFD \", model.evaluate(solution_efd))\n",
    "print(\"ESD \", model.evaluate(solution_esd))"
   ]
  },
  {
   "cell_type": "markdown",
   "id": "c1a65596",
   "metadata": {},
   "source": [
    "Can you find other priority rule to get better results ?"
   ]
  },
  {
   "cell_type": "markdown",
   "id": "04a3ab5c",
   "metadata": {},
   "source": [
    "## [OPTIONAL] Bonus for those interested : code a Local search or Genetic algorithm using the SGS algorithms and the permutation encoding !"
   ]
  },
  {
   "cell_type": "markdown",
   "id": "91dd9eb0",
   "metadata": {},
   "source": [
    "https://en.wikipedia.org/wiki/Simulated_annealing, https://en.wikipedia.org/wiki/Hill_climbing"
   ]
  }
 ],
 "metadata": {
  "kernelspec": {
   "display_name": "isae_course",
   "language": "python",
   "name": "isae_course"
  },
  "language_info": {
   "codemirror_mode": {
    "name": "ipython",
    "version": 3
   },
   "file_extension": ".py",
   "mimetype": "text/x-python",
   "name": "python",
   "nbconvert_exporter": "python",
   "pygments_lexer": "ipython3",
   "version": "3.7.13"
  }
 },
 "nbformat": 4,
 "nbformat_minor": 5
}
